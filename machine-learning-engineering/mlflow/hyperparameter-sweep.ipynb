{
 "cells": [
  {
   "cell_type": "code",
   "execution_count": 10,
   "metadata": {},
   "outputs": [],
   "source": [
    "!export MLFLOW_TRACKING_URI=http://localhost:5000\n"
   ]
  },
  {
   "cell_type": "code",
   "execution_count": 4,
   "metadata": {},
   "outputs": [],
   "source": [
    "import keras\n",
    "import numpy as np\n",
    "import pandas as pd\n",
    "from hyperopt import STATUS_OK, Trials, fmin, hp, tpe\n",
    "from sklearn.metrics import mean_squared_error\n",
    "from sklearn.model_selection import train_test_split\n",
    "\n",
    "import mlflow\n",
    "from mlflow.models import infer_signature"
   ]
  },
  {
   "cell_type": "code",
   "execution_count": 12,
   "metadata": {},
   "outputs": [],
   "source": [
    "mlflow.set_tracking_uri(\"http://127.0.0.1:8000\")"
   ]
  },
  {
   "cell_type": "code",
   "execution_count": 5,
   "metadata": {},
   "outputs": [],
   "source": [
    "# Load dataset\n",
    "data = pd.read_csv(\n",
    "    \"https://raw.githubusercontent.com/mlflow/mlflow/master/tests/datasets/winequality-white.csv\",\n",
    "    sep=\";\",\n",
    ")\n",
    "\n",
    "# Split the data into training, validation, and test sets\n",
    "train, test = train_test_split(data, test_size=0.25, random_state=42)\n",
    "train_x = train.drop([\"quality\"], axis=1).values\n",
    "train_y = train[[\"quality\"]].values.ravel()\n",
    "test_x = test.drop([\"quality\"], axis=1).values\n",
    "test_y = test[[\"quality\"]].values.ravel()\n",
    "train_x, valid_x, train_y, valid_y = train_test_split(\n",
    "    train_x, train_y, test_size=0.2, random_state=42\n",
    ")\n",
    "signature = infer_signature(train_x, train_y)\n"
   ]
  },
  {
   "cell_type": "code",
   "execution_count": 17,
   "metadata": {},
   "outputs": [],
   "source": [
    "def train_model(params, epochs, train_x, train_y, valid_x, valid_y, test_x, test_y):\n",
    "    # Define model architecture\n",
    "    model = keras.Sequential(\n",
    "        [\n",
    "            keras.Input([train_x.shape[1]]),\n",
    "            keras.layers.Normalization(mean=np.mean(train_x), variance=np.var(train_x)),\n",
    "            keras.layers.Dense(64, activation=\"relu\"),\n",
    "            keras.layers.Dense(1),\n",
    "        ]\n",
    "    )\n",
    "\n",
    "    # Compile model\n",
    "    model.compile(\n",
    "        optimizer=keras.optimizers.SGD(\n",
    "            learning_rate=params[\"lr\"], momentum=params[\"momentum\"]\n",
    "        ),\n",
    "        loss=\"mean_squared_error\",\n",
    "        metrics=[keras.metrics.RootMeanSquaredError()],\n",
    "    )\n",
    "\n",
    "    # Train model with MLflow tracking\n",
    "    with mlflow.start_run(nested=True):\n",
    "        model.fit(\n",
    "            train_x,\n",
    "            train_y,\n",
    "            validation_data=(valid_x, valid_y),\n",
    "            epochs=epochs,\n",
    "            batch_size=64,\n",
    "        )\n",
    "        # Evaluate the model\n",
    "        eval_result = model.evaluate(valid_x, valid_y, batch_size=64)\n",
    "        eval_rmse = eval_result[1]\n",
    "\n",
    "        # Log parameters and results\n",
    "        mlflow.log_params(params)\n",
    "        mlflow.log_metric(\"eval_rmse\", eval_rmse)\n",
    "\n",
    "        # Log model\n",
    "        mlflow.tensorflow.log_model(model, \"model\", signature=signature)\n",
    "\n",
    "        return {\"loss\": eval_rmse, \"eval_rmse\": eval_rmse, \"status\": STATUS_OK, \"model\": model}\n"
   ]
  },
  {
   "cell_type": "code",
   "execution_count": 18,
   "metadata": {},
   "outputs": [],
   "source": [
    "def objective(params):\n",
    "    # MLflow will track the parameters and results for each run\n",
    "    result = train_model(\n",
    "        params,\n",
    "        epochs=3,\n",
    "        train_x=train_x,\n",
    "        train_y=train_y,\n",
    "        valid_x=valid_x,\n",
    "        valid_y=valid_y,\n",
    "        test_x=test_x,\n",
    "        test_y=test_y,\n",
    "    )\n",
    "    return result\n"
   ]
  },
  {
   "cell_type": "code",
   "execution_count": 8,
   "metadata": {},
   "outputs": [],
   "source": [
    "space = {\n",
    "    \"lr\": hp.loguniform(\"lr\", np.log(1e-5), np.log(1e-1)),\n",
    "    \"momentum\": hp.uniform(\"momentum\", 0.0, 1.0),\n",
    "}\n"
   ]
  },
  {
   "cell_type": "code",
   "execution_count": 19,
   "metadata": {},
   "outputs": [
    {
     "name": "stdout",
     "output_type": "stream",
     "text": [
      "Epoch 1/3                                            \n",
      "\n",
      " 1/46 [..............................] - ETA: 22s - loss: 45.5016 - root_mean_squared_error: 6.7455\n",
      "19/46 [===========>..................] - ETA: 0s - loss: 8.9937 - root_mean_squared_error: 2.9990  \n",
      "37/46 [=======================>......] - ETA: 0s - loss: 5.7501 - root_mean_squared_error: 2.3979\n",
      "46/46 [==============================] - 1s 9ms/step - loss: 4.9628 - root_mean_squared_error: 2.2277 - val_loss: 1.6049 - val_root_mean_squared_error: 1.2668\n",
      "\n",
      "Epoch 2/3                                            \n",
      "\n",
      " 1/46 [..............................] - ETA: 0s - loss: 1.7064 - root_mean_squared_error: 1.3063\n",
      "19/46 [===========>..................] - ETA: 0s - loss: 1.3600 - root_mean_squared_error: 1.1662\n",
      "40/46 [=========================>....] - ETA: 0s - loss: 1.1768 - root_mean_squared_error: 1.0848\n",
      "46/46 [==============================] - 0s 4ms/step - loss: 1.1365 - root_mean_squared_error: 1.0661 - val_loss: 0.8846 - val_root_mean_squared_error: 0.9405\n",
      "\n",
      "Epoch 3/3                                            \n",
      "\n",
      " 1/46 [..............................] - ETA: 0s - loss: 0.8010 - root_mean_squared_error: 0.8950\n",
      "31/46 [===================>..........] - ETA: 0s - loss: 0.8434 - root_mean_squared_error: 0.9184\n",
      "46/46 [==============================] - 0s 3ms/step - loss: 0.8314 - root_mean_squared_error: 0.9118 - val_loss: 0.7939 - val_root_mean_squared_error: 0.8910\n",
      "\n",
      " 1/12 [=>............................] - ETA: 0s - loss: 0.7481 - root_mean_squared_error: 0.8649\n",
      "12/12 [==============================] - 0s 2ms/step - loss: 0.7939 - root_mean_squared_error: 0.8910\n",
      "\n",
      "  0%|          | 0/8 [00:01<?, ?trial/s, best loss=?]INFO:tensorflow:Assets written to: /var/folders/pr/2nrw06tn1vb56m13zv7wlrsm0000gn/T/tmp506q5l4z/model/data/model/assets\n"
     ]
    },
    {
     "name": "stderr",
     "output_type": "stream",
     "text": [
      "INFO:tensorflow:Assets written to: /var/folders/pr/2nrw06tn1vb56m13zv7wlrsm0000gn/T/tmp506q5l4z/model/data/model/assets\n",
      "\n"
     ]
    },
    {
     "name": "stdout",
     "output_type": "stream",
     "text": [
      "Epoch 1/3                                                                     \n",
      "\n",
      " 1/46 [..............................] - ETA: 17s - loss: 22.9388 - root_mean_squared_error: 4.7894\n",
      "28/46 [=================>............] - ETA: 0s - loss: 14.2252 - root_mean_squared_error: 3.7716 \n",
      "34/46 [=====================>........] - ETA: 0s - loss: 12.6273 - root_mean_squared_error: 3.5535\n",
      "46/46 [==============================] - 1s 7ms/step - loss: 10.3912 - root_mean_squared_error: 3.2235 - val_loss: 4.0179 - val_root_mean_squared_error: 2.0045\n",
      "\n",
      "Epoch 2/3                                                                     \n",
      "\n",
      " 1/46 [..............................] - ETA: 0s - loss: 3.3386 - root_mean_squared_error: 1.8272\n",
      "32/46 [===================>..........] - ETA: 0s - loss: 3.5576 - root_mean_squared_error: 1.8862\n",
      "46/46 [==============================] - 0s 3ms/step - loss: 3.6048 - root_mean_squared_error: 1.8986 - val_loss: 3.6507 - val_root_mean_squared_error: 1.9107\n",
      "\n",
      "Epoch 3/3                                                                     \n",
      "\n",
      " 1/46 [..............................] - ETA: 0s - loss: 3.6556 - root_mean_squared_error: 1.9120\n",
      "32/46 [===================>..........] - ETA: 0s - loss: 3.4791 - root_mean_squared_error: 1.8652\n",
      "46/46 [==============================] - 0s 2ms/step - loss: 3.3562 - root_mean_squared_error: 1.8320 - val_loss: 3.4031 - val_root_mean_squared_error: 1.8447\n",
      "\n",
      " 1/12 [=>............................] - ETA: 0s - loss: 2.9609 - root_mean_squared_error: 1.7207\n",
      "12/12 [==============================] - 0s 2ms/step - loss: 3.4031 - root_mean_squared_error: 1.8447\n",
      "\n",
      " 12%|█▎        | 1/8 [00:11<01:13, 10.46s/trial, best loss: 0.891036331653595]INFO:tensorflow:Assets written to: /var/folders/pr/2nrw06tn1vb56m13zv7wlrsm0000gn/T/tmpvd4shme2/model/data/model/assets\n"
     ]
    },
    {
     "name": "stderr",
     "output_type": "stream",
     "text": [
      "INFO:tensorflow:Assets written to: /var/folders/pr/2nrw06tn1vb56m13zv7wlrsm0000gn/T/tmpvd4shme2/model/data/model/assets\n",
      "\n"
     ]
    },
    {
     "name": "stdout",
     "output_type": "stream",
     "text": [
      "Epoch 1/3                                                                     \n",
      "\n",
      " 1/46 [..............................] - ETA: 15s - loss: 27.4200 - root_mean_squared_error: 5.2364\n",
      "36/46 [======================>.......] - ETA: 0s - loss: 23.4428 - root_mean_squared_error: 4.8418 \n",
      "46/46 [==============================] - 1s 5ms/step - loss: 21.8522 - root_mean_squared_error: 4.6746 - val_loss: 15.2003 - val_root_mean_squared_error: 3.8988\n",
      "\n",
      "Epoch 2/3                                                                     \n",
      "\n",
      " 1/46 [..............................] - ETA: 0s - loss: 14.2678 - root_mean_squared_error: 3.7773\n",
      "32/46 [===================>..........] - ETA: 0s - loss: 11.7380 - root_mean_squared_error: 3.4261\n",
      "46/46 [==============================] - 0s 3ms/step - loss: 10.4317 - root_mean_squared_error: 3.2298 - val_loss: 7.4427 - val_root_mean_squared_error: 2.7281\n",
      "\n",
      "Epoch 3/3                                                                     \n",
      "\n",
      " 1/46 [..............................] - ETA: 0s - loss: 7.4082 - root_mean_squared_error: 2.7218\n",
      "35/46 [=====================>........] - ETA: 0s - loss: 5.7300 - root_mean_squared_error: 2.3937\n",
      "46/46 [==============================] - 0s 2ms/step - loss: 5.5011 - root_mean_squared_error: 2.3454 - val_loss: 4.7704 - val_root_mean_squared_error: 2.1841\n",
      "\n",
      " 1/12 [=>............................] - ETA: 0s - loss: 4.0357 - root_mean_squared_error: 2.0089\n",
      "12/12 [==============================] - 0s 2ms/step - loss: 4.7704 - root_mean_squared_error: 2.1841\n",
      "\n",
      " 25%|██▌       | 2/8 [00:19<00:52,  8.81s/trial, best loss: 0.891036331653595]INFO:tensorflow:Assets written to: /var/folders/pr/2nrw06tn1vb56m13zv7wlrsm0000gn/T/tmpwzq45txv/model/data/model/assets\n"
     ]
    },
    {
     "name": "stderr",
     "output_type": "stream",
     "text": [
      "INFO:tensorflow:Assets written to: /var/folders/pr/2nrw06tn1vb56m13zv7wlrsm0000gn/T/tmpwzq45txv/model/data/model/assets\n",
      "\n"
     ]
    },
    {
     "name": "stdout",
     "output_type": "stream",
     "text": [
      "Epoch 1/3                                                                     \n",
      "\n",
      " 1/46 [..............................] - ETA: 21s - loss: 33.4954 - root_mean_squared_error: 5.7875\n",
      "33/46 [====================>.........] - ETA: 0s - loss: 5.8168 - root_mean_squared_error: 2.4118  \n",
      "46/46 [==============================] - 1s 6ms/step - loss: 4.4958 - root_mean_squared_error: 2.1203 - val_loss: 0.7978 - val_root_mean_squared_error: 0.8932\n",
      "\n",
      "Epoch 2/3                                                                     \n",
      "\n",
      " 1/46 [..............................] - ETA: 0s - loss: 0.5873 - root_mean_squared_error: 0.7664\n",
      "20/46 [============>.................] - ETA: 0s - loss: 1.0795 - root_mean_squared_error: 1.0390\n",
      "41/46 [=========================>....] - ETA: 0s - loss: 1.0211 - root_mean_squared_error: 1.0105\n",
      "46/46 [==============================] - 0s 4ms/step - loss: 0.9914 - root_mean_squared_error: 0.9957 - val_loss: 0.7515 - val_root_mean_squared_error: 0.8669\n",
      "\n",
      "Epoch 3/3                                                                     \n",
      "\n",
      " 1/46 [..............................] - ETA: 0s - loss: 0.7351 - root_mean_squared_error: 0.8574\n",
      " 9/46 [====>.........................] - ETA: 1s - loss: 0.7744 - root_mean_squared_error: 0.8800\n",
      "31/46 [===================>..........] - ETA: 0s - loss: 0.7907 - root_mean_squared_error: 0.8892\n",
      "46/46 [==============================] - 0s 9ms/step - loss: 0.8637 - root_mean_squared_error: 0.9294 - val_loss: 0.9147 - val_root_mean_squared_error: 0.9564\n",
      "\n",
      " 1/12 [=>............................] - ETA: 0s - loss: 0.8856 - root_mean_squared_error: 0.9411\n",
      "12/12 [==============================] - 0s 3ms/step - loss: 0.9147 - root_mean_squared_error: 0.9564\n",
      "\n",
      " 38%|███▊      | 3/8 [00:27<00:41,  8.28s/trial, best loss: 0.891036331653595]INFO:tensorflow:Assets written to: /var/folders/pr/2nrw06tn1vb56m13zv7wlrsm0000gn/T/tmpe4yz4npu/model/data/model/assets\n"
     ]
    },
    {
     "name": "stderr",
     "output_type": "stream",
     "text": [
      "INFO:tensorflow:Assets written to: /var/folders/pr/2nrw06tn1vb56m13zv7wlrsm0000gn/T/tmpe4yz4npu/model/data/model/assets\n",
      "\n"
     ]
    },
    {
     "name": "stdout",
     "output_type": "stream",
     "text": [
      "Epoch 1/3                                                                     \n",
      "\n",
      " 1/46 [..............................] - ETA: 23s - loss: 38.6197 - root_mean_squared_error: 6.2145\n",
      "29/46 [=================>............] - ETA: 0s - loss: 7.4498 - root_mean_squared_error: 2.7294  \n",
      "46/46 [==============================] - 1s 6ms/step - loss: 5.7439 - root_mean_squared_error: 2.3966 - val_loss: 2.6517 - val_root_mean_squared_error: 1.6284\n",
      "\n",
      "Epoch 2/3                                                                     \n",
      "\n",
      " 1/46 [..............................] - ETA: 0s - loss: 2.4171 - root_mean_squared_error: 1.5547\n",
      "35/46 [=====================>........] - ETA: 0s - loss: 2.1267 - root_mean_squared_error: 1.4583\n",
      "46/46 [==============================] - 0s 2ms/step - loss: 2.0029 - root_mean_squared_error: 1.4152 - val_loss: 1.6198 - val_root_mean_squared_error: 1.2727\n",
      "\n",
      "Epoch 3/3                                                                     \n",
      "\n",
      " 1/46 [..............................] - ETA: 0s - loss: 1.5204 - root_mean_squared_error: 1.2331\n",
      "30/46 [==================>...........] - ETA: 0s - loss: 1.3651 - root_mean_squared_error: 1.1684\n",
      "46/46 [==============================] - 0s 3ms/step - loss: 1.2728 - root_mean_squared_error: 1.1282 - val_loss: 1.1113 - val_root_mean_squared_error: 1.0542\n",
      "\n",
      " 1/12 [=>............................] - ETA: 0s - loss: 1.0612 - root_mean_squared_error: 1.0302\n",
      "12/12 [==============================] - 0s 2ms/step - loss: 1.1113 - root_mean_squared_error: 1.0542\n",
      "\n",
      " 50%|█████     | 4/8 [00:36<00:34,  8.63s/trial, best loss: 0.891036331653595]INFO:tensorflow:Assets written to: /var/folders/pr/2nrw06tn1vb56m13zv7wlrsm0000gn/T/tmp8psyak3t/model/data/model/assets\n"
     ]
    },
    {
     "name": "stderr",
     "output_type": "stream",
     "text": [
      "INFO:tensorflow:Assets written to: /var/folders/pr/2nrw06tn1vb56m13zv7wlrsm0000gn/T/tmp8psyak3t/model/data/model/assets\n",
      "\n"
     ]
    },
    {
     "name": "stdout",
     "output_type": "stream",
     "text": [
      "Epoch 1/3                                                                     \n",
      "\n",
      " 1/46 [..............................] - ETA: 15s - loss: 49.7414 - root_mean_squared_error: 7.0528\n",
      "35/46 [=====================>........] - ETA: 0s - loss: 8.5860 - root_mean_squared_error: 2.9302  \n",
      "46/46 [==============================] - 1s 5ms/step - loss: 7.2970 - root_mean_squared_error: 2.7013 - val_loss: 3.1940 - val_root_mean_squared_error: 1.7872\n",
      "\n",
      "Epoch 2/3                                                                     \n",
      "\n",
      " 1/46 [..............................] - ETA: 0s - loss: 2.8094 - root_mean_squared_error: 1.6761\n",
      "34/46 [=====================>........] - ETA: 0s - loss: 2.7760 - root_mean_squared_error: 1.6661\n",
      "46/46 [==============================] - 0s 2ms/step - loss: 2.7077 - root_mean_squared_error: 1.6455 - val_loss: 2.5031 - val_root_mean_squared_error: 1.5821\n",
      "\n",
      "Epoch 3/3                                                                     \n",
      "\n",
      " 1/46 [..............................] - ETA: 0s - loss: 2.4621 - root_mean_squared_error: 1.5691\n",
      "35/46 [=====================>........] - ETA: 0s - loss: 2.2108 - root_mean_squared_error: 1.4869\n",
      "46/46 [==============================] - 0s 3ms/step - loss: 2.1421 - root_mean_squared_error: 1.4636 - val_loss: 1.9747 - val_root_mean_squared_error: 1.4053\n",
      "\n",
      " 1/12 [=>............................] - ETA: 0s - loss: 1.8566 - root_mean_squared_error: 1.3626\n",
      "12/12 [==============================] - 0s 3ms/step - loss: 1.9747 - root_mean_squared_error: 1.4053\n",
      "\n",
      " 62%|██████▎   | 5/8 [00:43<00:25,  8.36s/trial, best loss: 0.891036331653595]INFO:tensorflow:Assets written to: /var/folders/pr/2nrw06tn1vb56m13zv7wlrsm0000gn/T/tmp7jqgfho7/model/data/model/assets\n"
     ]
    },
    {
     "name": "stderr",
     "output_type": "stream",
     "text": [
      "INFO:tensorflow:Assets written to: /var/folders/pr/2nrw06tn1vb56m13zv7wlrsm0000gn/T/tmp7jqgfho7/model/data/model/assets\n",
      "\n"
     ]
    },
    {
     "name": "stdout",
     "output_type": "stream",
     "text": [
      "Epoch 1/3                                                                     \n",
      "\n",
      " 1/46 [..............................] - ETA: 18s - loss: 28.4134 - root_mean_squared_error: 5.3304\n",
      "31/46 [===================>..........] - ETA: 0s - loss: 30.3936 - root_mean_squared_error: 5.5130 \n",
      "46/46 [==============================] - 1s 5ms/step - loss: 30.2856 - root_mean_squared_error: 5.5032 - val_loss: 29.7434 - val_root_mean_squared_error: 5.4537\n",
      "\n",
      "Epoch 2/3                                                                     \n",
      "\n",
      " 1/46 [..............................] - ETA: 0s - loss: 28.4026 - root_mean_squared_error: 5.3294\n",
      "30/46 [==================>...........] - ETA: 0s - loss: 28.8822 - root_mean_squared_error: 5.3742\n",
      "46/46 [==============================] - 0s 3ms/step - loss: 28.7880 - root_mean_squared_error: 5.3654 - val_loss: 28.2994 - val_root_mean_squared_error: 5.3197\n",
      "\n",
      "Epoch 3/3                                                                     \n",
      "\n",
      " 1/46 [..............................] - ETA: 0s - loss: 27.8602 - root_mean_squared_error: 5.2783\n",
      "32/46 [===================>..........] - ETA: 0s - loss: 27.5635 - root_mean_squared_error: 5.2501\n",
      "46/46 [==============================] - 0s 3ms/step - loss: 27.3531 - root_mean_squared_error: 5.2300 - val_loss: 26.9140 - val_root_mean_squared_error: 5.1879\n",
      "\n",
      " 1/12 [=>............................] - ETA: 0s - loss: 26.6382 - root_mean_squared_error: 5.1612\n",
      "12/12 [==============================] - 0s 1ms/step - loss: 26.9140 - root_mean_squared_error: 5.1879\n",
      "\n",
      " 75%|███████▌  | 6/8 [00:51<00:16,  8.09s/trial, best loss: 0.891036331653595]INFO:tensorflow:Assets written to: /var/folders/pr/2nrw06tn1vb56m13zv7wlrsm0000gn/T/tmpht2tas95/model/data/model/assets\n"
     ]
    },
    {
     "name": "stderr",
     "output_type": "stream",
     "text": [
      "INFO:tensorflow:Assets written to: /var/folders/pr/2nrw06tn1vb56m13zv7wlrsm0000gn/T/tmpht2tas95/model/data/model/assets\n",
      "\n"
     ]
    },
    {
     "name": "stdout",
     "output_type": "stream",
     "text": [
      "Epoch 1/3                                                                     \n",
      "\n",
      " 1/46 [..............................] - ETA: 20s - loss: 35.6121 - root_mean_squared_error: 5.9676\n",
      "30/46 [==================>...........] - ETA: 0s - loss: 5.0882 - root_mean_squared_error: 2.2557  \n",
      "46/46 [==============================] - 1s 6ms/step - loss: 3.7290 - root_mean_squared_error: 1.9311 - val_loss: 0.9453 - val_root_mean_squared_error: 0.9723\n",
      "\n",
      "Epoch 2/3                                                                     \n",
      "\n",
      " 1/46 [..............................] - ETA: 0s - loss: 0.9189 - root_mean_squared_error: 0.9586\n",
      "23/46 [==============>...............] - ETA: 0s - loss: 0.8443 - root_mean_squared_error: 0.9189\n",
      "41/46 [=========================>....] - ETA: 0s - loss: 0.8339 - root_mean_squared_error: 0.9132\n",
      "46/46 [==============================] - 0s 4ms/step - loss: 0.8283 - root_mean_squared_error: 0.9101 - val_loss: 0.7638 - val_root_mean_squared_error: 0.8740\n",
      "\n",
      "Epoch 3/3                                                                     \n",
      "\n",
      " 1/46 [..............................] - ETA: 0s - loss: 0.5225 - root_mean_squared_error: 0.7228\n",
      "25/46 [===============>..............] - ETA: 0s - loss: 0.8054 - root_mean_squared_error: 0.8974\n",
      "46/46 [==============================] - 0s 3ms/step - loss: 0.7859 - root_mean_squared_error: 0.8865 - val_loss: 0.7532 - val_root_mean_squared_error: 0.8679\n",
      "\n",
      " 1/12 [=>............................] - ETA: 0s - loss: 0.7556 - root_mean_squared_error: 0.8692\n",
      "12/12 [==============================] - 0s 2ms/step - loss: 0.7532 - root_mean_squared_error: 0.8679\n",
      "\n",
      " 88%|████████▊ | 7/8 [00:59<00:08,  8.07s/trial, best loss: 0.891036331653595]INFO:tensorflow:Assets written to: /var/folders/pr/2nrw06tn1vb56m13zv7wlrsm0000gn/T/tmpw0acy8gv/model/data/model/assets\n"
     ]
    },
    {
     "name": "stderr",
     "output_type": "stream",
     "text": [
      "INFO:tensorflow:Assets written to: /var/folders/pr/2nrw06tn1vb56m13zv7wlrsm0000gn/T/tmpw0acy8gv/model/data/model/assets\n",
      "\n"
     ]
    },
    {
     "name": "stdout",
     "output_type": "stream",
     "text": [
      "100%|██████████| 8/8 [01:06<00:00,  8.34s/trial, best loss: 0.8678948283195496]\n",
      "INFO:tensorflow:Assets written to: /var/folders/pr/2nrw06tn1vb56m13zv7wlrsm0000gn/T/tmpkv9tmxid/model/data/model/assets\n"
     ]
    },
    {
     "name": "stderr",
     "output_type": "stream",
     "text": [
      "INFO:tensorflow:Assets written to: /var/folders/pr/2nrw06tn1vb56m13zv7wlrsm0000gn/T/tmpkv9tmxid/model/data/model/assets\n",
      "\n"
     ]
    },
    {
     "name": "stdout",
     "output_type": "stream",
     "text": [
      "Best parameters: {'lr': 0.005150425768294159, 'momentum': 0.788207874627587}\n",
      "Best eval rmse: 0.8678948283195496\n"
     ]
    }
   ],
   "source": [
    "mlflow.set_experiment(\"/wine-quality\")\n",
    "with mlflow.start_run():\n",
    "    # Conduct the hyperparameter search using Hyperopt\n",
    "    trials = Trials()\n",
    "    best = fmin(\n",
    "        fn=objective,\n",
    "        space=space,\n",
    "        algo=tpe.suggest,\n",
    "        max_evals=8,\n",
    "        trials=trials,\n",
    "    )\n",
    "\n",
    "    # Fetch the details of the best run\n",
    "    best_run = sorted(trials.results, key=lambda x: x[\"eval_rmse\"])[0]\n",
    "\n",
    "    # Log the best parameters, loss, and model\n",
    "    mlflow.log_params(best)\n",
    "    mlflow.log_metric(\"eval_rmse\", best_run[\"loss\"])\n",
    "    mlflow.tensorflow.log_model(best_run[\"model\"], \"model\", signature=signature)\n",
    "\n",
    "    # Print out the best parameters and corresponding loss\n",
    "    print(f\"Best parameters: {best}\")\n",
    "    print(f\"Best eval rmse: {best_run['eval_rmse']}\")\n"
   ]
  }
 ],
 "metadata": {
  "kernelspec": {
   "display_name": "mlflow",
   "language": "python",
   "name": "python3"
  },
  "language_info": {
   "codemirror_mode": {
    "name": "ipython",
    "version": 3
   },
   "file_extension": ".py",
   "mimetype": "text/x-python",
   "name": "python",
   "nbconvert_exporter": "python",
   "pygments_lexer": "ipython3",
   "version": "3.8.18"
  }
 },
 "nbformat": 4,
 "nbformat_minor": 2
}
