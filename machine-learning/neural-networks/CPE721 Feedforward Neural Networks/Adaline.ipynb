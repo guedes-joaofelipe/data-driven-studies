{
 "cells": [
  {
   "cell_type": "markdown",
   "metadata": {},
   "source": [
    "# Adaline\n",
    "This notebook contains the implementation for a practical exercise on adaline studies found on an [Artificial Neural Network book](https://www.amazon.com.br/Neurais-Artificiais-Engenharia-Ci%C3%AAncias-Aplicadas/dp/8588098539). After a brief explanation of how the model works, a training algorithm is implemented and evaluated on a given dataset.  \n",
    "\n",
    "## The Adaline Model\n",
    "\n",
    "An adaline model is quite similar to a perceptron model using a single neuron. An illustration of the former model is shown in the following picture.\n",
    "\n",
    "<img src=\"Figures/adaline.png\">\n",
    "\n",
    "If you understand the perceptron model, feel free to jump ahead for the **Training Algorithm** subsection.\n",
    "\n",
    "As encountered on a perceptron, it consists of a single neuron with adjustable sinaptic weights and bias. Let $x \\in R^{m+1}$ be an extended version of an input signal $x_i \\in R^{m}$ by adding a fixed input $x_0 = +1$ (for practical implementations). Conversely, let $w \\in R^{m+1}$ be an extension of a randomly initialized weight vector $w_i \\in R^m$ by adding a bias element $b$. \n",
    "\n",
    "In this case, a signal $u$ is set as the following equation: \n",
    "\n",
    "$\\begin{equation}    \n",
    "    u = \\sum_{k = 1}^m x_k \\cdot w_k - b = w_i^T \\cdot x_i - b = w^T \\cdot x\n",
    "\\end{equation}\n",
    "$\n",
    "\n",
    "#### Activation Function\n",
    "\n",
    "In this model, the $u$ signal goes through an activation function $\\sigma(\\cdot)$ which has several sorts of flavours: \n",
    "\n",
    "| Activation Type | Equation | \n",
    "| ----------------- | -------------------------| \n",
    "| linear $\\sigma(x)$ | $\\sigma(x) = x$ | \n",
    "| unipolar step (hard limiter) | $\\sigma(x) = \\left\\{ \\begin{array}{ll} 1  & \\mbox{if } x \\geq 0 \\\\ 0 & \\mbox{if } x < 0 \\end{array}\\right.$ |  \n",
    "| bipolar step | $\\sigma(x) = \\left\\{\\begin{array}{ll} 1  & \\mbox{if } x \\geq 0 \\\\ -1 & \\mbox{if } x < 0 \\end{array} \\right.$ | \n",
    "| logistic | $\\sigma(x, \\beta) = \\frac{1}{1+e^{-\\beta x}}$ | \n",
    "| tanh | $\\sigma(x, \\beta) = \\frac{1-e^{-\\beta x}}{1+e^{-\\beta x}}$ | \n",
    "| relu | $\\sigma(x) = \\left\\{\\begin{array}{ll} x  & \\mbox{if } x \\geq 0 \\\\ 0 & \\mbox{if } x < 0 \\end{array} \\right.$ |\n",
    "\n",
    "The logistic and tanh activation functions are said to be in the sigmoid group and they are largely used on regression problems. For classification, the unipolar or bipolar steps are usually applied given their output are finite integers, which can be mapped to classes. \n",
    "\n",
    "It is essential to be aware that, since an activation function has an dinamyc range of operation, both the input and output signals should be preprocessed in a way to also limit its range within that of the activation function's. For example, by using the bipolar step, the input signal should range between $-1$ and $+1$. \n",
    "\n",
    "#### Setting the output\n",
    "\n",
    "Once an activation function is set, the output signal $y$ is defined as \n",
    "\n",
    "$y = \\sigma(u)$\n",
    "\n",
    "The single-neuron perceptron model is characterized by identifying linearly separable classes because, by using a bipolar step activation function, the classes are predicted by the following equation.\n",
    "\n",
    "\n",
    "$y = \\left\\{\n",
    "        \\begin{array}{ll}\n",
    "            +1  & \\mbox{if } u = w_i^Tx_i - b \\geq 0\\\\\n",
    "            -1 & \\mbox{if } u = w_i^Tx_i - b < 0\n",
    "    \\end{array}\n",
    "    \\right.\n",
    "$\n",
    "\n",
    "Therefore, by training an adaline model, we are defining a hyperplan defined by $w_i^Tx_i - b = 0$ which separates both classes on $R^m$. \n",
    "\n",
    "#### Training algorithm\n",
    "\n",
    "Different from a perceptron, an adaline has its training algorithm modified to minimize a cost function based on the mean squared error of the target value and the obtained output. The weight vector is to be updated according to the **Delta Rule** (or **Widrow-Hoff Learning Rule** or **Least Mean Square - LMS** or **Gradient Descent**), which tries to adapt such vector in the opposite direction of a descent gradient given by the aforementioned mean absolute error.  \n",
    "\n",
    "Formally, considering a optimal weight configuration, we have: \n",
    "\n",
    "$Cost(w^*) \\leq Cost(w), w \\in R^{n+1}$\n",
    "\n",
    "Usually, the cost function is the mean squared error (MSE) given by \n",
    "\n",
    "$MSE = \\frac{1}{2}\\sum_{k=1}^{N}(y_k - u_k)$\n",
    "\n",
    "where $y$ is the true output and $u$ is the inputs activation potential. \n",
    "\n",
    "In order to present a training algorithm, this notebook uses a dataset extracted from the aforementioned [Artificial Neural Network book](https://www.amazon.com.br/Neurais-Artificiais-Engenharia-Ci%C3%AAncias-Aplicadas/dp/8588098539) which is stored in the *./Datasets* folder. \n",
    "\n",
    "The training set contains information of 5 numerical features and 1 target value of 2 classes {P1 and P2}, denoted by [-1, 1] respectively. The test set contains only the features of another set of data.\n",
    "\n",
    "\n",
    "\n"
   ]
  },
  {
   "cell_type": "markdown",
   "metadata": {},
   "source": [
    "## Imports"
   ]
  },
  {
   "cell_type": "code",
   "execution_count": 54,
   "metadata": {},
   "outputs": [],
   "source": [
    "import random \n",
    "import pandas as pd\n",
    "import numpy as np\n",
    "import matplotlib.pyplot as plt \n",
    "%matplotlib inline"
   ]
  },
  {
   "cell_type": "markdown",
   "metadata": {},
   "source": [
    "## Loading Dataset"
   ]
  },
  {
   "cell_type": "code",
   "execution_count": 46,
   "metadata": {},
   "outputs": [
    {
     "name": "stdout",
     "output_type": "stream",
     "text": [
      "Train set shape: (35, 5)\n",
      "Test set shape: (15, 4)\n"
     ]
    },
    {
     "data": {
      "text/html": [
       "<div>\n",
       "<style scoped>\n",
       "    .dataframe tbody tr th:only-of-type {\n",
       "        vertical-align: middle;\n",
       "    }\n",
       "\n",
       "    .dataframe tbody tr th {\n",
       "        vertical-align: top;\n",
       "    }\n",
       "\n",
       "    .dataframe thead th {\n",
       "        text-align: right;\n",
       "    }\n",
       "</style>\n",
       "<table border=\"1\" class=\"dataframe\">\n",
       "  <thead>\n",
       "    <tr style=\"text-align: right;\">\n",
       "      <th></th>\n",
       "      <th>x1</th>\n",
       "      <th>x2</th>\n",
       "      <th>x3</th>\n",
       "      <th>x4</th>\n",
       "      <th>target</th>\n",
       "    </tr>\n",
       "  </thead>\n",
       "  <tbody>\n",
       "    <tr>\n",
       "      <th>0</th>\n",
       "      <td>0.4329</td>\n",
       "      <td>-1.3719</td>\n",
       "      <td>0.7022</td>\n",
       "      <td>-0.8535</td>\n",
       "      <td>1.0</td>\n",
       "    </tr>\n",
       "    <tr>\n",
       "      <th>1</th>\n",
       "      <td>0.3024</td>\n",
       "      <td>0.2286</td>\n",
       "      <td>0.8630</td>\n",
       "      <td>2.7909</td>\n",
       "      <td>-1.0</td>\n",
       "    </tr>\n",
       "    <tr>\n",
       "      <th>2</th>\n",
       "      <td>0.1349</td>\n",
       "      <td>-0.6445</td>\n",
       "      <td>1.0530</td>\n",
       "      <td>0.5687</td>\n",
       "      <td>-1.0</td>\n",
       "    </tr>\n",
       "    <tr>\n",
       "      <th>3</th>\n",
       "      <td>0.3374</td>\n",
       "      <td>-1.7163</td>\n",
       "      <td>0.3670</td>\n",
       "      <td>-0.6283</td>\n",
       "      <td>-1.0</td>\n",
       "    </tr>\n",
       "    <tr>\n",
       "      <th>4</th>\n",
       "      <td>1.1434</td>\n",
       "      <td>-0.0485</td>\n",
       "      <td>0.6637</td>\n",
       "      <td>1.2606</td>\n",
       "      <td>1.0</td>\n",
       "    </tr>\n",
       "  </tbody>\n",
       "</table>\n",
       "</div>"
      ],
      "text/plain": [
       "       x1      x2      x3      x4  target\n",
       "0  0.4329 -1.3719  0.7022 -0.8535     1.0\n",
       "1  0.3024  0.2286  0.8630  2.7909    -1.0\n",
       "2  0.1349 -0.6445  1.0530  0.5687    -1.0\n",
       "3  0.3374 -1.7163  0.3670 -0.6283    -1.0\n",
       "4  1.1434 -0.0485  0.6637  1.2606     1.0"
      ]
     },
     "execution_count": 46,
     "metadata": {},
     "output_type": "execute_result"
    }
   ],
   "source": [
    "df_train = pd.read_csv('./Datasets/ex4_6_train.tsv', sep='\\t')\n",
    "df_train.drop(['sample'], axis=1, inplace=True)\n",
    "df_test = pd.read_csv('./Datasets/ex4_6_test.tsv', sep='\\t')\n",
    "df_test.drop(['sample'], axis=1, inplace=True)\n",
    "print (\"Train set shape: {}\\nTest set shape: {}\".format(df_train.shape, df_test.shape))\n",
    "df_train.head()"
   ]
  },
  {
   "cell_type": "code",
   "execution_count": 48,
   "metadata": {},
   "outputs": [
    {
     "data": {
      "text/html": [
       "<div>\n",
       "<style scoped>\n",
       "    .dataframe tbody tr th:only-of-type {\n",
       "        vertical-align: middle;\n",
       "    }\n",
       "\n",
       "    .dataframe tbody tr th {\n",
       "        vertical-align: top;\n",
       "    }\n",
       "\n",
       "    .dataframe thead th {\n",
       "        text-align: right;\n",
       "    }\n",
       "</style>\n",
       "<table border=\"1\" class=\"dataframe\">\n",
       "  <thead>\n",
       "    <tr style=\"text-align: right;\">\n",
       "      <th></th>\n",
       "      <th>x1</th>\n",
       "      <th>x2</th>\n",
       "      <th>x3</th>\n",
       "      <th>x4</th>\n",
       "    </tr>\n",
       "  </thead>\n",
       "  <tbody>\n",
       "    <tr>\n",
       "      <th>0</th>\n",
       "      <td>0.9694</td>\n",
       "      <td>0.6909</td>\n",
       "      <td>0.4334</td>\n",
       "      <td>3.4965</td>\n",
       "    </tr>\n",
       "    <tr>\n",
       "      <th>1</th>\n",
       "      <td>0.5427</td>\n",
       "      <td>1.3832</td>\n",
       "      <td>0.6390</td>\n",
       "      <td>4.0352</td>\n",
       "    </tr>\n",
       "    <tr>\n",
       "      <th>2</th>\n",
       "      <td>0.6081</td>\n",
       "      <td>-0.9196</td>\n",
       "      <td>0.5925</td>\n",
       "      <td>0.1016</td>\n",
       "    </tr>\n",
       "    <tr>\n",
       "      <th>3</th>\n",
       "      <td>-0.1618</td>\n",
       "      <td>0.4694</td>\n",
       "      <td>0.2030</td>\n",
       "      <td>3.0117</td>\n",
       "    </tr>\n",
       "    <tr>\n",
       "      <th>4</th>\n",
       "      <td>0.1870</td>\n",
       "      <td>-0.2578</td>\n",
       "      <td>0.6124</td>\n",
       "      <td>1.7749</td>\n",
       "    </tr>\n",
       "  </tbody>\n",
       "</table>\n",
       "</div>"
      ],
      "text/plain": [
       "       x1      x2      x3      x4\n",
       "0  0.9694  0.6909  0.4334  3.4965\n",
       "1  0.5427  1.3832  0.6390  4.0352\n",
       "2  0.6081 -0.9196  0.5925  0.1016\n",
       "3 -0.1618  0.4694  0.2030  3.0117\n",
       "4  0.1870 -0.2578  0.6124  1.7749"
      ]
     },
     "execution_count": 48,
     "metadata": {},
     "output_type": "execute_result"
    }
   ],
   "source": [
    "df_test.head()"
   ]
  },
  {
   "cell_type": "code",
   "execution_count": 49,
   "metadata": {},
   "outputs": [],
   "source": [
    "x_train, y_train = df_train.drop(['target'], axis=1).values, df_train['target'].values\n",
    "x_test = df_test.values"
   ]
  },
  {
   "cell_type": "markdown",
   "metadata": {},
   "source": [
    "## Creating Perceptron Class"
   ]
  },
  {
   "cell_type": "code",
   "execution_count": 82,
   "metadata": {},
   "outputs": [
    {
     "name": "stdout",
     "output_type": "stream",
     "text": [
      "Epoch 1 >> W = [-1.          0.52046366  0.68204256  0.63121831  0.0913342 ]\tdelta_eps = 2.1327567673975025\n",
      "Epoch 925 >> W = [ 1.81300632  1.31291529  1.64233027 -0.42751014 -1.17778856]\tdelta_eps = 9.998820008627618e-07\n"
     ]
    }
   ],
   "source": [
    "class Adaline:\n",
    "    def __init__(self, activation = 'tanh', learning_rate = 0.0025, seed = None, beta = None): \n",
    "        self.activation = activation\n",
    "        self.learning_rate = learning_rate\n",
    "        self.seed = seed\n",
    "        self.x = None        \n",
    "        self.x_pred = None\n",
    "        self.target = None\n",
    "        self.w = None        \n",
    "        self.beta = beta\n",
    "        self.g = self.get_activation(self.activation, self.beta)\n",
    "        self.mse = None        \n",
    "        \n",
    "    def get_activation(self, activation, beta = None):\n",
    "        \"\"\"Returns an activation function\n",
    "            :param activation (str): the name of the function \n",
    "                ['linear', 'unipolar_step', 'bipolar_step', \n",
    "                'logistic', 'simmetric_ramp', 'tanh', 'relu']\n",
    "            :return (lambda function): the implemented activation function\n",
    "        \"\"\"\n",
    "        if activation == 'linear':\n",
    "            g = lambda x: x\n",
    "        elif activation == 'unipolar_step':\n",
    "            g = lambda x: 1 if x >= 0 else 0\n",
    "        elif activation == 'bipolar_step':\n",
    "            g = lambda x: 1 if x >= 0 else -1\n",
    "        elif activation == 'logistic':\n",
    "            g = lambda x, beta: 1/(1 + np.exp(-beta*x))\n",
    "        elif activation == 'simmetric_ramp':\n",
    "            g = lambda x, beta: x if x > -beta or x < beta else beta\n",
    "        elif activation == 'tanh':\n",
    "            g = lambda x, beta: (1 - np.exp(-beta*x))/(1 + np.exp(-beta*x))\n",
    "        elif activation == 'relu':\n",
    "            g = lambda x: x if x > 0 else 0\n",
    "        else:\n",
    "            raise NotImplemented\n",
    "        return g\n",
    "        \n",
    "    def mean_squared_error(self):\n",
    "        p = self.x.shape[0]\n",
    "        mse = 0\n",
    "        for k, sample in enumerate(self.x):            \n",
    "            u = np.dot(sample, self.w)            \n",
    "            mse += (self.target[k]-u)**2\n",
    "        return mse/p\n",
    "        \n",
    "    def train(self, features, target, epsilon = 1e-6, max_epochs = 2000):\n",
    "        \"\"\" Trains a single neuron adaline model with delta rule training.\n",
    "            :param features (np.array): an array containg training examples and its features\n",
    "            :param target (np.array): the true values of the output \n",
    "            :param max_epochs: the maximum number of epochs allowed in training\n",
    "            :epsilon (float): the minimum error to consider a training convergence\n",
    "        \"\"\"\n",
    "        # Appending a bias constant to the features array\n",
    "        self.x = np.array([np.concatenate(([1], i)) for i in features])\n",
    "        \n",
    "        # Initializing the weights with a random uniform function (0, 1)\n",
    "        self.w = np.array([random.uniform(0,1) for i in np.arange(self.x.shape[1]-1)])\n",
    "        self.w = np.concatenate(([-1], self.w))\n",
    "        \n",
    "        self.mse = list()\n",
    "        self.target = target        \n",
    "        epoch = 1\n",
    "        print (\"Epoch {} >> W = {}\\tdelta_eps = {}\".format(epoch, self.w, self.mean_squared_error()))\n",
    "        \n",
    "        # Starting training until max_epochs is reached or no error is found\n",
    "        keep_training = True\n",
    "        while (keep_training):                      \n",
    "            mse_before = self.mean_squared_error()\n",
    "            self.mse.append(mse_before)\n",
    "            \n",
    "            for k, sample in enumerate(self.x):\n",
    "                u = np.dot(sample, self.w)\n",
    "                self.w = self.w + self.learning_rate*(target[k]-u)*sample                \n",
    "            epoch += 1       \n",
    "            delta_mse = abs(self.mean_squared_error() - mse_before)\n",
    "            \n",
    "            if delta_mse <= epsilon:                \n",
    "                keep_training = False\n",
    "            \n",
    "        print (\"Epoch {} >> W = {}\\tdelta_eps = {}\".format(epoch, self.w, delta_mse))\n",
    "        \n",
    "    def predict(self, features):\n",
    "        \"\"\" Predicts the output of a set of test features from a pre-trained model\n",
    "            :params features (np.array): the test set of features\n",
    "            :return y_pred (np.array): the predicted output\n",
    "        \"\"\"\n",
    "        self.x_pred = np.array([np.concatenate(([1], i)) for i in features])\n",
    "        u = np.dot(self.x_pred,self.w)\n",
    "        self.y_pred = list()\n",
    "        for u_i in u:\n",
    "            self.y_pred.append(self.g(u_i))\n",
    "        self.y_pred = np.array(self.y_pred)\n",
    "        return self.y_pred\n",
    "        \n",
    "ada = Adaline(activation='bipolar_step')        \n",
    "ada.train(features=x_train, target=y_train, epsilon=0.000001)   "
   ]
  },
  {
   "cell_type": "code",
   "execution_count": 83,
   "metadata": {},
   "outputs": [
    {
     "name": "stdout",
     "output_type": "stream",
     "text": [
      "\n",
      "### Starting training  1\n",
      "Epoch 1 >> W = [-1.          0.62056678  0.5992632   0.88455843  0.57657206]\tdelta_eps = 4.890354635732102\n",
      "Epoch 943 >> W = [ 1.81316059  1.31295166  1.6424221  -0.427598   -1.17785228]\tdelta_eps = 9.904413866279604e-07\n",
      "Predictions:  [-1 -1  1 -1 -1  1  1  1  1 -1 -1  1 -1 -1  1]\n",
      "\n",
      "### Starting training  2\n",
      "Epoch 1 >> W = [-1.          0.58763563  0.91094704  0.89909944  0.83252561]\tdelta_eps = 9.164547729912105\n",
      "Epoch 940 >> W = [ 1.81301854  1.31293424  1.64235773 -0.42748518 -1.17780528]\tdelta_eps = 9.99008725632855e-07\n",
      "Predictions:  [-1 -1  1 -1 -1  1  1  1  1 -1 -1  1 -1 -1  1]\n",
      "\n",
      "### Starting training  3\n",
      "Epoch 1 >> W = [-1.          0.73880759  0.66722097  0.64948163  0.83858806]\tdelta_eps = 7.975813554061713\n",
      "Epoch 937 >> W = [ 1.81305865  1.31291878  1.64235031 -0.42755751 -1.17780376]\tdelta_eps = 9.96744751347034e-07\n",
      "Predictions:  [-1 -1  1 -1 -1  1  1  1  1 -1 -1  1 -1 -1  1]\n",
      "\n",
      "### Starting training  4\n",
      "Epoch 1 >> W = [-1.          0.05804663  0.3381443   0.80278131  0.90928897]\tdelta_eps = 6.8292263080367\n",
      "Epoch 954 >> W = [ 1.81304189  1.31290024  1.64232202 -0.42757692 -1.17778624]\tdelta_eps = 9.978930162746202e-07\n",
      "Predictions:  [-1 -1  1 -1 -1  1  1  1  1 -1 -1  1 -1 -1  1]\n",
      "\n",
      "### Starting training  5\n",
      "Epoch 1 >> W = [-1.          0.90656811  0.58247615  0.45238891  0.05893548]\tdelta_eps = 1.7828430250515865\n",
      "Epoch 919 >> W = [ 1.81315721  1.31293446  1.64239948 -0.42762867 -1.17783897]\tdelta_eps = 9.907773491635297e-07\n",
      "Predictions:  [-1 -1  1 -1 -1  1  1  1  1 -1 -1  1 -1 -1  1]\n"
     ]
    },
    {
     "data": {
      "text/plain": [
       "<matplotlib.legend.Legend at 0x25be3d531d0>"
      ]
     },
     "execution_count": 83,
     "metadata": {},
     "output_type": "execute_result"
    },
    {
     "data": {
      "image/png": "[encoded data removed]",
      "text/plain": [
       "<Figure size 576x576 with 1 Axes>"
      ]
     },
     "metadata": {
      "needs_background": "light"
     },
     "output_type": "display_data"
    }
   ],
   "source": [
    "fig, ax = plt.subplots(figsize = (8,8))\n",
    "ax.set_title('Training MSE for Adaline Model')\n",
    "ax.grid(True)\n",
    "ax.set_ylabel('MSE')\n",
    "ax.set_xlabel('# Epochs')\n",
    "\n",
    "for training_index in np.arange(1, 6, 1):\n",
    "    print (\"\\n### Starting training \", training_index)\n",
    "    ada = Adaline(activation='bipolar_step', learning_rate = 0.0025)        \n",
    "    ada.train(features=x_train, target=y_train, max_epochs=2000, epsilon=1e-6)      \n",
    "    ax.plot(ada.mse, label = 'Training T{} ({} epochs)'.format(training_index, len(ada.mse)))\n",
    "    print (\"Predictions: \", ada.predict(x_test))\n",
    "ax.legend()    "
   ]
  },
  {
   "cell_type": "markdown",
   "metadata": {},
   "source": [
    "After training and prediction 5 times the algorithms on the given train and test set, we can see that, for each round, the output is the **same**, different from the encountered on a previously notebook for the Perceptron model. This is due to the fact that, despite the weights being initialized randomly, the delta rule only converges on the region next to the optimal solution. On a perceptron model, on the otherhand, any solution that would satisfy the Hebbs rule would be accepted, generating a more different set of final weights. \n",
    "\n",
    "For this characteristic of the adaline model to provide a solution next to the optimal, it is considered to be more robust to noisy data. However, a greater number of epochs are necessary for the algorithm to converge. \n",
    "\n",
    "Given that the algorithm did converge, we can conclude that the input data was linearly separable. "
   ]
  },
  {
   "cell_type": "markdown",
   "metadata": {},
   "source": [
    "_______________"
   ]
  }
 ],
 "metadata": {
  "kernelspec": {
   "display_name": "Python 3",
   "language": "python",
   "name": "python3"
  },
  "language_info": {
   "codemirror_mode": {
    "name": "ipython",
    "version": 3
   },
   "file_extension": ".py",
   "mimetype": "text/x-python",
   "name": "python",
   "nbconvert_exporter": "python",
   "pygments_lexer": "ipython3",
   "version": "3.7.3"
  }
 },
 "nbformat": 4,
 "nbformat_minor": 2
}
