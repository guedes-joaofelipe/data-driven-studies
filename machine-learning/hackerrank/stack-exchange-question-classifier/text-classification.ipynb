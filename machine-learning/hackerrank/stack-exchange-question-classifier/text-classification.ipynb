{
 "cells": [
  {
   "cell_type": "code",
   "execution_count": 59,
   "metadata": {},
   "outputs": [],
   "source": [
    "import numpy as np\n",
    "import json\n",
    "import pandas as pd\n",
    "from sklearn.decomposition import TruncatedSVD\n",
    "from sklearn.preprocessing import LabelEncoder"
   ]
  },
  {
   "cell_type": "code",
   "execution_count": 13,
   "metadata": {},
   "outputs": [
    {
     "data": {
      "text/html": [
       "<div>\n",
       "<style scoped>\n",
       "    .dataframe tbody tr th:only-of-type {\n",
       "        vertical-align: middle;\n",
       "    }\n",
       "\n",
       "    .dataframe tbody tr th {\n",
       "        vertical-align: top;\n",
       "    }\n",
       "\n",
       "    .dataframe thead th {\n",
       "        text-align: right;\n",
       "    }\n",
       "</style>\n",
       "<table border=\"1\" class=\"dataframe\">\n",
       "  <thead>\n",
       "    <tr style=\"text-align: right;\">\n",
       "      <th></th>\n",
       "      <th>topic</th>\n",
       "      <th>question</th>\n",
       "      <th>excerpt</th>\n",
       "    </tr>\n",
       "  </thead>\n",
       "  <tbody>\n",
       "    <tr>\n",
       "      <th>20214</th>\n",
       "      <td>wordpress</td>\n",
       "      <td>How to set a Custom Post Type as the parent of...</td>\n",
       "      <td>I have a Custom Post Type called Recipe with p...</td>\n",
       "    </tr>\n",
       "    <tr>\n",
       "      <th>20215</th>\n",
       "      <td>wordpress</td>\n",
       "      <td>Tracking last login and last visit</td>\n",
       "      <td>I'm using the code below to track when a user ...</td>\n",
       "    </tr>\n",
       "    <tr>\n",
       "      <th>20216</th>\n",
       "      <td>wordpress</td>\n",
       "      <td>How to exclude the particular category from th...</td>\n",
       "      <td>add_action( 'pre_get_posts', 'custom_pre_get_p...</td>\n",
       "    </tr>\n",
       "    <tr>\n",
       "      <th>20217</th>\n",
       "      <td>wordpress</td>\n",
       "      <td>display sub categories assoccited with each po...</td>\n",
       "      <td>i have wordpress blog with many posts. each po...</td>\n",
       "    </tr>\n",
       "    <tr>\n",
       "      <th>20218</th>\n",
       "      <td>wordpress</td>\n",
       "      <td>Lost of query parameter when using permalink</td>\n",
       "      <td>I have many issues with the use of rewriting, ...</td>\n",
       "    </tr>\n",
       "  </tbody>\n",
       "</table>\n",
       "</div>"
      ],
      "text/plain": [
       "           topic                                           question  \\\n",
       "20214  wordpress  How to set a Custom Post Type as the parent of...   \n",
       "20215  wordpress                 Tracking last login and last visit   \n",
       "20216  wordpress  How to exclude the particular category from th...   \n",
       "20217  wordpress  display sub categories assoccited with each po...   \n",
       "20218  wordpress       Lost of query parameter when using permalink   \n",
       "\n",
       "                                                 excerpt  \n",
       "20214  I have a Custom Post Type called Recipe with p...  \n",
       "20215  I'm using the code below to track when a user ...  \n",
       "20216  add_action( 'pre_get_posts', 'custom_pre_get_p...  \n",
       "20217  i have wordpress blog with many posts. each po...  \n",
       "20218  I have many issues with the use of rewriting, ...  "
      ]
     },
     "execution_count": 13,
     "metadata": {},
     "output_type": "execute_result"
    }
   ],
   "source": [
    "def load_data():\n",
    "    with open(\"./training.json\") as f:\n",
    "        lines = f.readlines()\n",
    "        data = [json.loads(line) for line in lines]\n",
    "\n",
    "    return pd.DataFrame.from_dict(data)\n",
    "\n",
    "df = load_data()\n",
    "df.tail()"
   ]
  },
  {
   "cell_type": "code",
   "execution_count": 15,
   "metadata": {},
   "outputs": [],
   "source": [
    "\n",
    "\n",
    "def train_label_encoder(df:pd.DataFrame, target:str=\"topic\") -> LabelEncoder:\n",
    "    encoder = LabelEncoder()\n",
    "    encoder.fit(df[target])\n",
    "    return encoder\n",
    "\n",
    "encoder = train_label_encoder(df)\n",
    "df[\"y\"] = encoder.transform(df[\"topic\"])"
   ]
  },
  {
   "cell_type": "code",
   "execution_count": 62,
   "metadata": {},
   "outputs": [
    {
     "name": "stderr",
     "output_type": "stream",
     "text": [
      "[nltk_data] Downloading package stopwords to\n",
      "[nltk_data]     /Users/joao.guedes/nltk_data...\n",
      "[nltk_data]   Package stopwords is already up-to-date!\n"
     ]
    }
   ],
   "source": [
    "import nltk\n",
    "from nltk.corpus import stopwords\n",
    "nltk.download('stopwords')\n",
    "stop_words = set(stopwords.words('english'))\n",
    "\n",
    "@np.vectorize\n",
    "def preprocess_sentence(sentence:str) -> str:\n",
    "    sentence = sentence.replace(\"\\n\", \"\").lower()\n",
    "    sentence_tokens = sentence.split(\" \")\n",
    "    sentence_filtered = [w for w in sentence_tokens if not w.lower() in stop_words]\n",
    "    return \" \".join(sentence_filtered)\n",
    "\n",
    "df[\"sentence\"] = df[\"question\"] + \" \" + df[\"excerpt\"]\n",
    "df[\"sentence\"] = preprocess_sentence(df[\"sentence\"])\n"
   ]
  },
  {
   "cell_type": "code",
   "execution_count": 47,
   "metadata": {},
   "outputs": [],
   "source": [
    "from sklearn.feature_extraction.text import CountVectorizer\n",
    "\n",
    "def train_vectorizer(df:pd.DataFrame, column:str=\"sentence\") -> CountVectorizer:\n",
    "    vectorizer = CountVectorizer()\n",
    "    vectorizer.fit(df[column].tolist())\n",
    "    return vectorizer\n",
    "\n",
    "vectorizer = train_vectorizer(df)"
   ]
  },
  {
   "cell_type": "code",
   "execution_count": 48,
   "metadata": {},
   "outputs": [],
   "source": [
    "# create the bag-of-words model\n",
    "bow_model = vectorizer.transform(df[\"sentence\"].tolist())"
   ]
  },
  {
   "cell_type": "code",
   "execution_count": 49,
   "metadata": {},
   "outputs": [],
   "source": [
    "\n",
    "\n",
    "def train_svd(X, n_components) -> TruncatedSVD:\n",
    "    svd = TruncatedSVD(n_components=n_components)\n",
    "    svd.fit(X)\n",
    "    return svd\n",
    "\n",
    "decomposition = train_svd(bow_model, n_components=200)\n",
    "X_preprocessed = decomposition.transform(bow_model)"
   ]
  },
  {
   "cell_type": "code",
   "execution_count": 37,
   "metadata": {},
   "outputs": [],
   "source": [
    "y = df[\"y\"]"
   ]
  },
  {
   "cell_type": "code",
   "execution_count": 50,
   "metadata": {},
   "outputs": [
    {
     "data": {
      "text/plain": [
       "LogisticRegression(max_iter=1000, random_state=0)"
      ]
     },
     "execution_count": 50,
     "metadata": {},
     "output_type": "execute_result"
    }
   ],
   "source": [
    "from sklearn.linear_model import LogisticRegression\n",
    "\n",
    "model = LogisticRegression(random_state=0, max_iter=1000)\n",
    "model.fit(X_preprocessed, y)\n"
   ]
  },
  {
   "cell_type": "code",
   "execution_count": 65,
   "metadata": {},
   "outputs": [],
   "source": [
    "def predict(sentence:str) -> str:\n",
    "    sentence = preprocess_sentence(sentence)\n",
    "    bow_model = vectorizer.transform(sentence)\n",
    "    X_preprocessed = decomposition.transform(bow_model)\n",
    "    label = model.predict(X_preprocessed)\n",
    "    return encoder.inverse_transform(label)\n",
    "\n",
    "df[\"y_pred\"] = predict(df[\"sentence\"])\n",
    "\n"
   ]
  },
  {
   "cell_type": "code",
   "execution_count": 67,
   "metadata": {},
   "outputs": [
    {
     "data": {
      "text/html": [
       "<div>\n",
       "<style scoped>\n",
       "    .dataframe tbody tr th:only-of-type {\n",
       "        vertical-align: middle;\n",
       "    }\n",
       "\n",
       "    .dataframe tbody tr th {\n",
       "        vertical-align: top;\n",
       "    }\n",
       "\n",
       "    .dataframe thead th {\n",
       "        text-align: right;\n",
       "    }\n",
       "</style>\n",
       "<table border=\"1\" class=\"dataframe\">\n",
       "  <thead>\n",
       "    <tr style=\"text-align: right;\">\n",
       "      <th></th>\n",
       "      <th>topic</th>\n",
       "      <th>y_pred</th>\n",
       "    </tr>\n",
       "  </thead>\n",
       "  <tbody>\n",
       "    <tr>\n",
       "      <th>0</th>\n",
       "      <td>electronics</td>\n",
       "      <td>electronics</td>\n",
       "    </tr>\n",
       "    <tr>\n",
       "      <th>1</th>\n",
       "      <td>electronics</td>\n",
       "      <td>electronics</td>\n",
       "    </tr>\n",
       "    <tr>\n",
       "      <th>2</th>\n",
       "      <td>electronics</td>\n",
       "      <td>electronics</td>\n",
       "    </tr>\n",
       "    <tr>\n",
       "      <th>3</th>\n",
       "      <td>electronics</td>\n",
       "      <td>electronics</td>\n",
       "    </tr>\n",
       "    <tr>\n",
       "      <th>4</th>\n",
       "      <td>electronics</td>\n",
       "      <td>electronics</td>\n",
       "    </tr>\n",
       "    <tr>\n",
       "      <th>...</th>\n",
       "      <td>...</td>\n",
       "      <td>...</td>\n",
       "    </tr>\n",
       "    <tr>\n",
       "      <th>20214</th>\n",
       "      <td>wordpress</td>\n",
       "      <td>wordpress</td>\n",
       "    </tr>\n",
       "    <tr>\n",
       "      <th>20215</th>\n",
       "      <td>wordpress</td>\n",
       "      <td>wordpress</td>\n",
       "    </tr>\n",
       "    <tr>\n",
       "      <th>20216</th>\n",
       "      <td>wordpress</td>\n",
       "      <td>wordpress</td>\n",
       "    </tr>\n",
       "    <tr>\n",
       "      <th>20217</th>\n",
       "      <td>wordpress</td>\n",
       "      <td>wordpress</td>\n",
       "    </tr>\n",
       "    <tr>\n",
       "      <th>20218</th>\n",
       "      <td>wordpress</td>\n",
       "      <td>wordpress</td>\n",
       "    </tr>\n",
       "  </tbody>\n",
       "</table>\n",
       "<p>20219 rows × 2 columns</p>\n",
       "</div>"
      ],
      "text/plain": [
       "             topic       y_pred\n",
       "0      electronics  electronics\n",
       "1      electronics  electronics\n",
       "2      electronics  electronics\n",
       "3      electronics  electronics\n",
       "4      electronics  electronics\n",
       "...            ...          ...\n",
       "20214    wordpress    wordpress\n",
       "20215    wordpress    wordpress\n",
       "20216    wordpress    wordpress\n",
       "20217    wordpress    wordpress\n",
       "20218    wordpress    wordpress\n",
       "\n",
       "[20219 rows x 2 columns]"
      ]
     },
     "execution_count": 67,
     "metadata": {},
     "output_type": "execute_result"
    }
   ],
   "source": [
    "df[[\"topic\", \"y_pred\"]]"
   ]
  }
 ],
 "metadata": {
  "kernelspec": {
   "display_name": "gflow",
   "language": "python",
   "name": "python3"
  },
  "language_info": {
   "codemirror_mode": {
    "name": "ipython",
    "version": 3
   },
   "file_extension": ".py",
   "mimetype": "text/x-python",
   "name": "python",
   "nbconvert_exporter": "python",
   "pygments_lexer": "ipython3",
   "version": "3.7.10"
  }
 },
 "nbformat": 4,
 "nbformat_minor": 2
}
