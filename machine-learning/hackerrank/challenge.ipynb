{
 "cells": [
  {
   "cell_type": "code",
   "execution_count": 3,
   "metadata": {},
   "outputs": [],
   "source": [
    "import pandas as pd\n",
    "import numpy as np\n",
    "import re"
   ]
  },
  {
   "cell_type": "code",
   "execution_count": 2,
   "metadata": {},
   "outputs": [
    {
     "data": {
      "text/plain": [
       "['dsa', '123', '', '', '423']"
      ]
     },
     "execution_count": 2,
     "metadata": {},
     "output_type": "execute_result"
    }
   ],
   "source": [
    "\"dsa 123   423\".split(\" \")"
   ]
  },
  {
   "cell_type": "code",
   "execution_count": 4,
   "metadata": {},
   "outputs": [
    {
     "data": {
      "text/plain": [
       "'dsa321é23'"
      ]
     },
     "execution_count": 4,
     "metadata": {},
     "output_type": "execute_result"
    }
   ],
   "source": [
    "text = \"dsa 321 é ~!23\"\n",
    "re.sub(r\"[\\W]\", \"\", text)"
   ]
  },
  {
   "cell_type": "code",
   "execution_count": 11,
   "metadata": {},
   "outputs": [],
   "source": [
    "re.search(r\"\\d\", \"dsada\")"
   ]
  },
  {
   "cell_type": "code",
   "execution_count": 16,
   "metadata": {},
   "outputs": [
    {
     "name": "stdout",
     "output_type": "stream",
     "text": [
      "['application', 'that', 'I', 'wrote', 'runs', 'fast', 'One', 'test', 'run', 'completed', 'in', 'Another', 'in']\n"
     ]
    },
    {
     "data": {
      "text/plain": [
       "13"
      ]
     },
     "execution_count": 16,
     "metadata": {},
     "output_type": "execute_result"
    }
   ],
   "source": [
    "import re\n",
    "\n",
    "STOP_WORDS = [\"a\", \"and\", \"be\", \"is\", \"of\", \"the\", \"to\"]\n",
    "\n",
    "def howMany(text: str) -> int:\n",
    "    # Write your code here\n",
    "    \n",
    "    # split input text into words on spaces (there may be more than one space between words)\n",
    "    tokens = text.split(\" \")\n",
    "    \n",
    "    # normalize text: remove all characters other than alphanumeric characters \n",
    "    tokens = [re.sub(r\"[\\W]\", '', token) for token in tokens]\n",
    "    # removes any normalized words that have number in them\n",
    "    tokens = [token for token in tokens if not re.search(r\"\\d\", token)]\n",
    "    \n",
    "    # remove stop words\n",
    "    tokens = [token for token in tokens if token.lower() not in STOP_WORDS and token != '']\n",
    "    \n",
    "    print (tokens)\n",
    "    # count\n",
    "    return len(tokens)\n",
    "\n",
    "text = \"The application -- that I wrote -- runs fast. One test run completed in 30-milliseconds. Another in 25!\"\n",
    "\n",
    "howMany(text)"
   ]
  },
  {
   "cell_type": "code",
   "execution_count": 18,
   "metadata": {},
   "outputs": [
    {
     "data": {
      "text/plain": [
       "['this',\n",
       " '',\n",
       " 'that',\n",
       " 'arent',\n",
       " 'what',\n",
       " 'were',\n",
       " 'after',\n",
       " 'in',\n",
       " 'this',\n",
       " 'test',\n",
       " '',\n",
       " 'not',\n",
       " 'yet',\n",
       " 'anyways']"
      ]
     },
     "execution_count": 18,
     "metadata": {},
     "output_type": "execute_result"
    }
   ],
   "source": [
    "x = ['This', '&', 'That', \"aren't\", 'what', \"we're\", 'after', 'in', 'THIS', 'test', '--', 'not', 'yet', 'anyways!']\n",
    "\n",
    "import re\n",
    "\n",
    "def normalize(words: list) -> list:\n",
    "    # Write your code here\n",
    "    # lowercase\n",
    "    # contains only alphanumeric characters (punctuations must be removed)\n",
    "    return [re.sub(r\"[\\W]\", \"\", word).lower() for word in words if word != '']\n",
    "\n",
    "normalize(x)"
   ]
  },
  {
   "cell_type": "code",
   "execution_count": 25,
   "metadata": {},
   "outputs": [
    {
     "data": {
      "text/plain": [
       "[1, 2, 3]"
      ]
     },
     "execution_count": 25,
     "metadata": {},
     "output_type": "execute_result"
    }
   ],
   "source": [
    "list(filter(lambda x: x != '', [1, 2, '', 3]))"
   ]
  },
  {
   "cell_type": "code",
   "execution_count": 21,
   "metadata": {},
   "outputs": [
    {
     "name": "stdout",
     "output_type": "stream",
     "text": [
      "{1, 2, 3, 4, 5, 7, 9}\n",
      "[1, 2, 3, 4, 5, 7, 9]\n",
      "[1, 2, 3, 4, 5, 7, 9]\n"
     ]
    }
   ],
   "source": [
    "a = {1, 2, 9, 1, 2, 3, 1, 4, 1, 5, 7}\n",
    "print (a)\n",
    "a = list(a)\n",
    "print (a)\n",
    "print (sorted(a))"
   ]
  }
 ],
 "metadata": {
  "kernelspec": {
   "display_name": "gflow",
   "language": "python",
   "name": "python3"
  },
  "language_info": {
   "codemirror_mode": {
    "name": "ipython",
    "version": 3
   },
   "file_extension": ".py",
   "mimetype": "text/x-python",
   "name": "python",
   "nbconvert_exporter": "python",
   "pygments_lexer": "ipython3",
   "version": "3.7.10"
  }
 },
 "nbformat": 4,
 "nbformat_minor": 2
}
