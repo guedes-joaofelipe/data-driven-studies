{
 "cells": [
  {
   "cell_type": "code",
   "execution_count": 74,
   "metadata": {},
   "outputs": [],
   "source": [
    "import pandas as pd\n",
    "from sklearn.decomposition import TruncatedSVD\n"
   ]
  },
  {
   "cell_type": "code",
   "execution_count": 64,
   "metadata": {},
   "outputs": [],
   "source": [
    "\n",
    "\n",
    "filepath = \"./trainingdata.txt\"\n",
    "\n",
    "def read_data(filepath:str) -> pd.DataFrame:\n",
    "    lines = []\n",
    "    with open(filepath) as f:\n",
    "        lines = f.readlines()\n",
    "\n",
    "    df = pd.DataFrame(columns=[\"category\", \"document\"])\n",
    "\n",
    "    for line in lines[1:]:\n",
    "        tokens = line.split(\" \")\n",
    "        category = tokens[0]\n",
    "        document = \" \".join(tokens[1:]).replace(\"\\n\", \"\")\n",
    "        df.loc[df.shape[0]] = [category, document]\n",
    "\n",
    "    return df\n",
    "\n",
    "df = read_data(filepath)\n"
   ]
  },
  {
   "cell_type": "code",
   "execution_count": 65,
   "metadata": {},
   "outputs": [],
   "source": [
    "from sklearn.feature_extraction.text import CountVectorizer\n",
    "\n",
    "def train_vectorizer(df:pd.DataFrame) -> CountVectorizer:\n",
    "    vectorizer = CountVectorizer()\n",
    "    vectorizer.fit(df[\"document\"].tolist())\n",
    "    return vectorizer\n",
    "\n",
    "vectorizer = train_vectorizer(df)"
   ]
  },
  {
   "cell_type": "code",
   "execution_count": 67,
   "metadata": {},
   "outputs": [],
   "source": [
    "# create the bag-of-words model\n",
    "bow_model = vectorizer.transform(df[\"document\"].tolist())"
   ]
  },
  {
   "cell_type": "code",
   "execution_count": 72,
   "metadata": {},
   "outputs": [
    {
     "data": {
      "text/plain": [
       "<5485x19956 sparse matrix of type '<class 'numpy.int64'>'\n",
       "\twith 320397 stored elements in Compressed Sparse Row format>"
      ]
     },
     "execution_count": 72,
     "metadata": {},
     "output_type": "execute_result"
    }
   ],
   "source": [
    "bow_model"
   ]
  },
  {
   "cell_type": "code",
   "execution_count": 75,
   "metadata": {},
   "outputs": [],
   "source": [
    "\n",
    "\n",
    "def train_svd(X, n_components) -> TruncatedSVD:\n",
    "    svd = TruncatedSVD(n_components=n_components)\n",
    "    svd.fit(X)\n",
    "\n",
    "    return svd\n",
    "\n",
    "X = bow_model.toarray()\n",
    "y = df.category.astype(int).values\n"
   ]
  },
  {
   "cell_type": "code",
   "execution_count": 76,
   "metadata": {},
   "outputs": [],
   "source": [
    "pca = train_svd(bow_model, n_components=50)\n",
    "X_preprocessed = pca.transform(X)"
   ]
  },
  {
   "cell_type": "code",
   "execution_count": 55,
   "metadata": {},
   "outputs": [],
   "source": [
    "from sklearn.linear_model import LogisticRegression\n",
    "\n",
    "model = LogisticRegression(random_state=0, max_iter=1000)\n",
    "model.fit(X_preprocessed, y)\n"
   ]
  },
  {
   "cell_type": "code",
   "execution_count": 61,
   "metadata": {},
   "outputs": [
    {
     "data": {
      "text/plain": [
       "0.9549680948040109"
      ]
     },
     "execution_count": 61,
     "metadata": {},
     "output_type": "execute_result"
    }
   ],
   "source": [
    "model.score(X_preprocessed, y)"
   ]
  },
  {
   "cell_type": "code",
   "execution_count": 57,
   "metadata": {},
   "outputs": [
    {
     "data": {
      "text/plain": [
       "array([1, 2, 1, ..., 1, 8, 4])"
      ]
     },
     "execution_count": 57,
     "metadata": {},
     "output_type": "execute_result"
    }
   ],
   "source": [
    "model.predict(X_preprocessed)"
   ]
  }
 ],
 "metadata": {
  "kernelspec": {
   "display_name": "gflow",
   "language": "python",
   "name": "python3"
  },
  "language_info": {
   "codemirror_mode": {
    "name": "ipython",
    "version": 3
   },
   "file_extension": ".py",
   "mimetype": "text/x-python",
   "name": "python",
   "nbconvert_exporter": "python",
   "pygments_lexer": "ipython3",
   "version": "3.7.10"
  }
 },
 "nbformat": 4,
 "nbformat_minor": 2
}
