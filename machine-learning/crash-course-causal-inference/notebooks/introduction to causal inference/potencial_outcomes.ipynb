{
 "cells": [
  {
   "cell_type": "code",
   "execution_count": 4,
   "metadata": {},
   "outputs": [],
   "source": [
    "import numpy as np\n",
    "import pandas as pd\n",
    "from sklearn.linear_model import LinearRegression"
   ]
  },
  {
   "cell_type": "markdown",
   "metadata": {},
   "source": [
    "As example, we will use following dataset: \n",
    "\n",
    "- Treatment T: sodium intake (which can be binarized as `sodium intake > 3.5`)\n",
    "- Outcome Y: systolic blood pressure\n",
    "- Covariates X: age and protein in urine\n",
    "\n",
    "We shall use as simulation the following ground-truth equations:\n",
    "\n",
    "$$bloodPressure = \\beta_1 \\cdot sodium + 2 \\cdot age$$\n",
    "\n",
    "$$protein = \\alpha_1 \\cdot sodium + \\alpha_2 \\cdot bloodPressure$$\n",
    "\n"
   ]
  },
  {
   "cell_type": "code",
   "execution_count": 5,
   "metadata": {},
   "outputs": [],
   "source": [
    "def generate_data(n=1000, seed=0, beta1=1.05, alpha1=0.4, alpha2=0.3, binary_treatment=True, binary_cutoff=3.5):\n",
    "    np.random.seed(seed)\n",
    "    age = np.random.normal(65, 5, n)\n",
    "    sodium = age / 18 + np.random.normal(size=n)\n",
    "    if binary_treatment:\n",
    "        if binary_cutoff is None:\n",
    "            binary_cutoff = sodium.mean()\n",
    "        sodium = (sodium > binary_cutoff).astype(int)\n",
    "    blood_pressure = beta1 * sodium + 2 * age + np.random.normal(size=n)\n",
    "    proteinuria = alpha1 * sodium + alpha2 * blood_pressure + np.random.normal(size=n)\n",
    "    hypertension = (blood_pressure >= 140).astype(int)  # not used, but could be used for binary outcomes\n",
    "    return pd.DataFrame({'blood_pressure': blood_pressure, 'sodium': sodium,\n",
    "                         'age': age, 'proteinuria': proteinuria})\n",
    "\n",
    "def estimate_causal_effect(Xt, y, model=LinearRegression(), treatment_idx=0, regression_coef=False):\n",
    "    model.fit(Xt, y)\n",
    "    if regression_coef:\n",
    "        return model.coef_[treatment_idx]\n",
    "    else:\n",
    "        Xt1 = pd.DataFrame.copy(Xt)\n",
    "        Xt1[Xt.columns[treatment_idx]] = 1\n",
    "        Xt0 = pd.DataFrame.copy(Xt)\n",
    "        Xt0[Xt.columns[treatment_idx]] = 0\n",
    "        return (model.predict(Xt1) - model.predict(Xt0)).mean()"
   ]
  },
  {
   "cell_type": "code",
   "execution_count": 12,
   "metadata": {},
   "outputs": [
    {
     "data": {
      "text/html": [
       "<div>\n",
       "<style scoped>\n",
       "    .dataframe tbody tr th:only-of-type {\n",
       "        vertical-align: middle;\n",
       "    }\n",
       "\n",
       "    .dataframe tbody tr th {\n",
       "        vertical-align: top;\n",
       "    }\n",
       "\n",
       "    .dataframe thead th {\n",
       "        text-align: right;\n",
       "    }\n",
       "</style>\n",
       "<table border=\"1\" class=\"dataframe\">\n",
       "  <thead>\n",
       "    <tr style=\"text-align: right;\">\n",
       "      <th></th>\n",
       "      <th>blood_pressure</th>\n",
       "      <th>sodium</th>\n",
       "      <th>age</th>\n",
       "      <th>proteinuria</th>\n",
       "    </tr>\n",
       "  </thead>\n",
       "  <tbody>\n",
       "    <tr>\n",
       "      <th>0</th>\n",
       "      <td>146.809261</td>\n",
       "      <td>1</td>\n",
       "      <td>73.820262</td>\n",
       "      <td>43.118187</td>\n",
       "    </tr>\n",
       "    <tr>\n",
       "      <th>1</th>\n",
       "      <td>133.145170</td>\n",
       "      <td>0</td>\n",
       "      <td>67.000786</td>\n",
       "      <td>37.669696</td>\n",
       "    </tr>\n",
       "    <tr>\n",
       "      <th>2</th>\n",
       "      <td>139.289640</td>\n",
       "      <td>0</td>\n",
       "      <td>69.893690</td>\n",
       "      <td>41.370320</td>\n",
       "    </tr>\n",
       "    <tr>\n",
       "      <th>3</th>\n",
       "      <td>153.894444</td>\n",
       "      <td>1</td>\n",
       "      <td>76.204466</td>\n",
       "      <td>47.021801</td>\n",
       "    </tr>\n",
       "    <tr>\n",
       "      <th>4</th>\n",
       "      <td>150.615711</td>\n",
       "      <td>1</td>\n",
       "      <td>74.337790</td>\n",
       "      <td>46.574317</td>\n",
       "    </tr>\n",
       "  </tbody>\n",
       "</table>\n",
       "</div>"
      ],
      "text/plain": [
       "   blood_pressure  sodium        age  proteinuria\n",
       "0      146.809261       1  73.820262    43.118187\n",
       "1      133.145170       0  67.000786    37.669696\n",
       "2      139.289640       0  69.893690    41.370320\n",
       "3      153.894444       1  76.204466    47.021801\n",
       "4      150.615711       1  74.337790    46.574317"
      ]
     },
     "execution_count": 12,
     "metadata": {},
     "output_type": "execute_result"
    }
   ],
   "source": [
    "beta1 = 1.05\n",
    "\n",
    "df = generate_data(beta1=beta1, alpha1=.4, alpha2=.3, binary_treatment=True, n=10000000)\n",
    "df.head()\n"
   ]
  },
  {
   "cell_type": "code",
   "execution_count": 11,
   "metadata": {},
   "outputs": [
    {
     "data": {
      "text/html": [
       "<div>\n",
       "<style scoped>\n",
       "    .dataframe tbody tr th:only-of-type {\n",
       "        vertical-align: middle;\n",
       "    }\n",
       "\n",
       "    .dataframe tbody tr th {\n",
       "        vertical-align: top;\n",
       "    }\n",
       "\n",
       "    .dataframe thead th {\n",
       "        text-align: right;\n",
       "    }\n",
       "</style>\n",
       "<table border=\"1\" class=\"dataframe\">\n",
       "  <thead>\n",
       "    <tr style=\"text-align: right;\">\n",
       "      <th></th>\n",
       "      <th>blood_pressure</th>\n",
       "      <th>sodium</th>\n",
       "      <th>age</th>\n",
       "      <th>proteinuria</th>\n",
       "    </tr>\n",
       "  </thead>\n",
       "  <tbody>\n",
       "    <tr>\n",
       "      <th>blood_pressure</th>\n",
       "      <td>1.000000</td>\n",
       "      <td>0.260983</td>\n",
       "      <td>0.993889</td>\n",
       "      <td>0.950140</td>\n",
       "    </tr>\n",
       "    <tr>\n",
       "      <th>sodium</th>\n",
       "      <td>0.260983</td>\n",
       "      <td>1.000000</td>\n",
       "      <td>0.213186</td>\n",
       "      <td>0.304685</td>\n",
       "    </tr>\n",
       "    <tr>\n",
       "      <th>age</th>\n",
       "      <td>0.993889</td>\n",
       "      <td>0.213186</td>\n",
       "      <td>1.000000</td>\n",
       "      <td>0.941516</td>\n",
       "    </tr>\n",
       "    <tr>\n",
       "      <th>proteinuria</th>\n",
       "      <td>0.950140</td>\n",
       "      <td>0.304685</td>\n",
       "      <td>0.941516</td>\n",
       "      <td>1.000000</td>\n",
       "    </tr>\n",
       "  </tbody>\n",
       "</table>\n",
       "</div>"
      ],
      "text/plain": [
       "                blood_pressure    sodium       age  proteinuria\n",
       "blood_pressure        1.000000  0.260983  0.993889     0.950140\n",
       "sodium                0.260983  1.000000  0.213186     0.304685\n",
       "age                   0.993889  0.213186  1.000000     0.941516\n",
       "proteinuria           0.950140  0.304685  0.941516     1.000000"
      ]
     },
     "execution_count": 11,
     "metadata": {},
     "output_type": "execute_result"
    }
   ],
   "source": [
    "df.corr()"
   ]
  },
  {
   "cell_type": "markdown",
   "metadata": {},
   "source": [
    "We will estimate the effects of sodium intake on blood pressure, but in our data we also have estimates `age` and the amount of `protein in urine` (which we will consider as input variables of our model since we don't know the ground-truth equations).\n",
    "\n",
    "Because we are running simulations, we know that the true Average Treatment Effect of sodium in blood pressure is $\\beta_1$\n",
    "\n",
    "\n",
    "Now, how do we actually estimate the ATE? First, we assume consistency, positivity, and unconfoundedness given X. This means that we’ve identified the ATE as\n",
    "\n",
    "$$\\hat{ATE} = \\mathbb{E}_X \\Big[\\mathbb{E}[Y | T = 1, X] − \\mathbb{E}[Y | T = 0, X]\\Big] $$ \n",
    "\n",
    "For that, we need to fit a model in order to estimate $\\mathbb{E}[Y | t, x]$. However, in real case scenario don't know that blood pressure depends only on sodium and age. So, we would include the amount of protein in urine so as to use all available data in the dataset and then calculate the estimate through an empirical mean over X."
   ]
  },
  {
   "cell_type": "code",
   "execution_count": 24,
   "metadata": {},
   "outputs": [
    {
     "name": "stdout",
     "output_type": "stream",
     "text": [
      "ACE estimate: 0.8537946431496021\n",
      "Relative error: 18.7%\n"
     ]
    }
   ],
   "source": [
    "def estimate_avg_causal_effect(covariates, outcome, treatment):\n",
    "    # Fitting model to estimate E[Y|t,x]\n",
    "    Xt = df[covariates]\n",
    "    y = df[outcome]\n",
    "    model = LinearRegression()\n",
    "    model.fit(Xt, y)\n",
    "\n",
    "    # Estimating average causal effect\n",
    "    Xt1 = pd.DataFrame.copy(Xt)\n",
    "    Xt1[treatment] = 1\n",
    "    Xt0 = pd.DataFrame.copy(Xt)\n",
    "    Xt0[treatment] = 0\n",
    "    ate_est = np.mean(model.predict(Xt1) - model.predict(Xt0))\n",
    "    print('ACE estimate:', ate_est)\n",
    "    print ('Relative error: {:.01f}%'.format(100*abs(ate_est-beta1)/beta1))\n",
    "\n",
    "estimate_avg_causal_effect(\n",
    "    covariates=['sodium', 'age', 'proteinuria'], \n",
    "    outcome='blood_pressure', \n",
    "    treatment='sodium'\n",
    ")\n"
   ]
  },
  {
   "cell_type": "markdown",
   "metadata": {},
   "source": []
  },
  {
   "cell_type": "code",
   "execution_count": 22,
   "metadata": {},
   "outputs": [
    {
     "name": "stdout",
     "output_type": "stream",
     "text": [
      "ACE estimate: 5.328501680864975\n",
      "Relative error: 407.5%\n"
     ]
    }
   ],
   "source": [
    "estimate_avg_causal_effect(\n",
    "    covariates=['sodium'], \n",
    "    outcome='blood_pressure', \n",
    "    treatment='sodium'\n",
    ")"
   ]
  }
 ],
 "metadata": {
  "interpreter": {
   "hash": "0ac7e10caaa8860bbce9eb583279c21d0ec87de23247ccf14acb8e406263b27d"
  },
  "kernelspec": {
   "display_name": "Python 3.7.1 64-bit ('cartola': pyenv)",
   "language": "python",
   "name": "python3"
  },
  "language_info": {
   "codemirror_mode": {
    "name": "ipython",
    "version": 3
   },
   "file_extension": ".py",
   "mimetype": "text/x-python",
   "name": "python",
   "nbconvert_exporter": "python",
   "pygments_lexer": "ipython3",
   "version": "3.7.1"
  },
  "orig_nbformat": 4
 },
 "nbformat": 4,
 "nbformat_minor": 2
}
