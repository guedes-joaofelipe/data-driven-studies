{
 "cells": [
  {
   "cell_type": "markdown",
   "metadata": {},
   "source": [
    "# Chapter 2 - Randomized Experiments and Stats Review"
   ]
  },
  {
   "cell_type": "code",
   "execution_count": 1,
   "metadata": {},
   "outputs": [],
   "source": [
    "import numpy as np\n",
    "import pandas as pd"
   ]
  },
  {
   "cell_type": "markdown",
   "metadata": {},
   "source": [
    "# Loading Data"
   ]
  },
  {
   "cell_type": "code",
   "execution_count": 3,
   "metadata": {},
   "outputs": [
    {
     "data": {
      "text/html": [
       "<div>\n",
       "<style scoped>\n",
       "    .dataframe tbody tr th:only-of-type {\n",
       "        vertical-align: middle;\n",
       "    }\n",
       "\n",
       "    .dataframe tbody tr th {\n",
       "        vertical-align: top;\n",
       "    }\n",
       "\n",
       "    .dataframe thead th {\n",
       "        text-align: right;\n",
       "    }\n",
       "</style>\n",
       "<table border=\"1\" class=\"dataframe\">\n",
       "  <thead>\n",
       "    <tr style=\"text-align: right;\">\n",
       "      <th></th>\n",
       "      <th>gender</th>\n",
       "      <th>cross_sell_email</th>\n",
       "      <th>age</th>\n",
       "      <th>conversion</th>\n",
       "      <th>control</th>\n",
       "    </tr>\n",
       "  </thead>\n",
       "  <tbody>\n",
       "    <tr>\n",
       "      <th>318</th>\n",
       "      <td>0</td>\n",
       "      <td>long</td>\n",
       "      <td>18</td>\n",
       "      <td>0</td>\n",
       "      <td>0</td>\n",
       "    </tr>\n",
       "    <tr>\n",
       "      <th>319</th>\n",
       "      <td>1</td>\n",
       "      <td>no_email</td>\n",
       "      <td>16</td>\n",
       "      <td>0</td>\n",
       "      <td>1</td>\n",
       "    </tr>\n",
       "    <tr>\n",
       "      <th>320</th>\n",
       "      <td>0</td>\n",
       "      <td>no_email</td>\n",
       "      <td>15</td>\n",
       "      <td>0</td>\n",
       "      <td>1</td>\n",
       "    </tr>\n",
       "    <tr>\n",
       "      <th>321</th>\n",
       "      <td>1</td>\n",
       "      <td>no_email</td>\n",
       "      <td>16</td>\n",
       "      <td>0</td>\n",
       "      <td>1</td>\n",
       "    </tr>\n",
       "    <tr>\n",
       "      <th>322</th>\n",
       "      <td>1</td>\n",
       "      <td>long</td>\n",
       "      <td>24</td>\n",
       "      <td>1</td>\n",
       "      <td>0</td>\n",
       "    </tr>\n",
       "  </tbody>\n",
       "</table>\n",
       "</div>"
      ],
      "text/plain": [
       "     gender cross_sell_email  age  conversion  control\n",
       "318       0             long   18           0        0\n",
       "319       1         no_email   16           0        1\n",
       "320       0         no_email   15           0        1\n",
       "321       1         no_email   16           0        1\n",
       "322       1             long   24           1        0"
      ]
     },
     "execution_count": 3,
     "metadata": {},
     "output_type": "execute_result"
    }
   ],
   "source": [
    "url = 'https://github.com/matheusfacure/causal-inference-in-python-code/blob/main/causal-inference-in-python/data/cross_sell_email.csv?raw=true'\n",
    "\n",
    "treatment_column = \"cross_sell_email\"\n",
    "control_group = \"no_email\"\n",
    "\n",
    "df = pd.read_csv(url)\n",
    "df[\"control\"] = df[treatment_column].apply(lambda x: int(x == control_group))\n",
    "df.tail()"
   ]
  },
  {
   "cell_type": "markdown",
   "metadata": {},
   "source": [
    "# Analysis\n",
    "\n",
    "Computing the mean conversion for each treatment group. In other words,\n",
    "\n",
    "$$\\mathbb{E}[Y | T = t_i]$$"
   ]
  },
  {
   "cell_type": "code",
   "execution_count": 4,
   "metadata": {},
   "outputs": [
    {
     "data": {
      "text/html": [
       "<div>\n",
       "<style scoped>\n",
       "    .dataframe tbody tr th:only-of-type {\n",
       "        vertical-align: middle;\n",
       "    }\n",
       "\n",
       "    .dataframe tbody tr th {\n",
       "        vertical-align: top;\n",
       "    }\n",
       "\n",
       "    .dataframe thead th {\n",
       "        text-align: right;\n",
       "    }\n",
       "</style>\n",
       "<table border=\"1\" class=\"dataframe\">\n",
       "  <thead>\n",
       "    <tr style=\"text-align: right;\">\n",
       "      <th></th>\n",
       "      <th>gender</th>\n",
       "      <th>age</th>\n",
       "      <th>conversion</th>\n",
       "      <th>control</th>\n",
       "    </tr>\n",
       "    <tr>\n",
       "      <th>cross_sell_email</th>\n",
       "      <th></th>\n",
       "      <th></th>\n",
       "      <th></th>\n",
       "      <th></th>\n",
       "    </tr>\n",
       "  </thead>\n",
       "  <tbody>\n",
       "    <tr>\n",
       "      <th>long</th>\n",
       "      <td>0.550459</td>\n",
       "      <td>21.752294</td>\n",
       "      <td>0.055046</td>\n",
       "      <td>0.0</td>\n",
       "    </tr>\n",
       "    <tr>\n",
       "      <th>no_email</th>\n",
       "      <td>0.542553</td>\n",
       "      <td>20.489362</td>\n",
       "      <td>0.042553</td>\n",
       "      <td>1.0</td>\n",
       "    </tr>\n",
       "    <tr>\n",
       "      <th>short</th>\n",
       "      <td>0.633333</td>\n",
       "      <td>20.991667</td>\n",
       "      <td>0.125000</td>\n",
       "      <td>0.0</td>\n",
       "    </tr>\n",
       "  </tbody>\n",
       "</table>\n",
       "</div>"
      ],
      "text/plain": [
       "                    gender        age  conversion  control\n",
       "cross_sell_email                                          \n",
       "long              0.550459  21.752294    0.055046      0.0\n",
       "no_email          0.542553  20.489362    0.042553      1.0\n",
       "short             0.633333  20.991667    0.125000      0.0"
      ]
     },
     "execution_count": 4,
     "metadata": {},
     "output_type": "execute_result"
    }
   ],
   "source": [
    "df_treatment_mean = df.groupby([treatment_column]).mean()\n",
    "df_treatment_mean"
   ]
  },
  {
   "cell_type": "markdown",
   "metadata": {},
   "source": [
    "## Average Treatment Effect (ATE)\n",
    "\n",
    "To compute the average treatment effect, we need to estimate the difference between all treatment groups to control group as in:\n",
    "\n",
    "$$ATE = \\mathbb{E}[Y | T = t_{tr}] - \\mathbb{E}[Y | T = t_{co}]$$"
   ]
  },
  {
   "cell_type": "code",
   "execution_count": 5,
   "metadata": {},
   "outputs": [
    {
     "data": {
      "text/html": [
       "<div>\n",
       "<style scoped>\n",
       "    .dataframe tbody tr th:only-of-type {\n",
       "        vertical-align: middle;\n",
       "    }\n",
       "\n",
       "    .dataframe tbody tr th {\n",
       "        vertical-align: top;\n",
       "    }\n",
       "\n",
       "    .dataframe thead th {\n",
       "        text-align: right;\n",
       "    }\n",
       "</style>\n",
       "<table border=\"1\" class=\"dataframe\">\n",
       "  <thead>\n",
       "    <tr style=\"text-align: right;\">\n",
       "      <th></th>\n",
       "      <th>gender</th>\n",
       "      <th>age</th>\n",
       "      <th>conversion</th>\n",
       "      <th>control</th>\n",
       "      <th>conversion_control</th>\n",
       "      <th>ate</th>\n",
       "    </tr>\n",
       "    <tr>\n",
       "      <th>cross_sell_email</th>\n",
       "      <th></th>\n",
       "      <th></th>\n",
       "      <th></th>\n",
       "      <th></th>\n",
       "      <th></th>\n",
       "      <th></th>\n",
       "    </tr>\n",
       "  </thead>\n",
       "  <tbody>\n",
       "    <tr>\n",
       "      <th>no_email</th>\n",
       "      <td>0.542553</td>\n",
       "      <td>20.489362</td>\n",
       "      <td>0.042553</td>\n",
       "      <td>1.0</td>\n",
       "      <td>0.042553</td>\n",
       "      <td>0.000000</td>\n",
       "    </tr>\n",
       "    <tr>\n",
       "      <th>long</th>\n",
       "      <td>0.550459</td>\n",
       "      <td>21.752294</td>\n",
       "      <td>0.055046</td>\n",
       "      <td>0.0</td>\n",
       "      <td>0.042553</td>\n",
       "      <td>0.012493</td>\n",
       "    </tr>\n",
       "    <tr>\n",
       "      <th>short</th>\n",
       "      <td>0.633333</td>\n",
       "      <td>20.991667</td>\n",
       "      <td>0.125000</td>\n",
       "      <td>0.0</td>\n",
       "      <td>0.042553</td>\n",
       "      <td>0.082447</td>\n",
       "    </tr>\n",
       "  </tbody>\n",
       "</table>\n",
       "</div>"
      ],
      "text/plain": [
       "                    gender        age  conversion  control  \\\n",
       "cross_sell_email                                             \n",
       "no_email          0.542553  20.489362    0.042553      1.0   \n",
       "long              0.550459  21.752294    0.055046      0.0   \n",
       "short             0.633333  20.991667    0.125000      0.0   \n",
       "\n",
       "                  conversion_control       ate  \n",
       "cross_sell_email                                \n",
       "no_email                    0.042553  0.000000  \n",
       "long                        0.042553  0.012493  \n",
       "short                       0.042553  0.082447  "
      ]
     },
     "execution_count": 5,
     "metadata": {},
     "output_type": "execute_result"
    }
   ],
   "source": [
    "df_treatment_mean[\"conversion_control\"] = df_treatment_mean.loc[control_group][\"conversion\"]\n",
    "df_treatment_mean[\"ate\"] = df_treatment_mean[\"conversion\"] - df_treatment_mean[\"conversion_control\"]\n",
    "df_treatment_mean.sort_values(by=\"control\", ascending=False)"
   ]
  },
  {
   "cell_type": "markdown",
   "metadata": {},
   "source": [
    "## Checking Randomization\n",
    "\n",
    "Ideally, if randomization was done right, no differences should be observed for feature variables among treatment group. That is:\n",
    "\n",
    "- $gender_{tr} \\approx gender_{co}$\n",
    "- $age_{tr} \\approx age_{co}$\n",
    "\n",
    "A simple way to evaluate whether these differences are significant is to compute the **normalized differences between the treatment groups**:\n",
    "\n",
    "$$\\frac{\\hat{\\mu}_{tr} - \\hat{\\mu}_{co}}{\\sqrt{\\Big( \\hat{\\sigma}^2_{tr} + \\hat{\\sigma}^2_{co} \\Big) / 2}}$$\n",
    "\n",
    "and evaluate whether these differences are higher than 0.5 (_rule of thumb_)."
   ]
  },
  {
   "cell_type": "code",
   "execution_count": 6,
   "metadata": {},
   "outputs": [
    {
     "data": {
      "text/html": [
       "<div>\n",
       "<style scoped>\n",
       "    .dataframe tbody tr th:only-of-type {\n",
       "        vertical-align: middle;\n",
       "    }\n",
       "\n",
       "    .dataframe tbody tr th {\n",
       "        vertical-align: top;\n",
       "    }\n",
       "\n",
       "    .dataframe thead th {\n",
       "        text-align: right;\n",
       "    }\n",
       "</style>\n",
       "<table border=\"1\" class=\"dataframe\">\n",
       "  <thead>\n",
       "    <tr style=\"text-align: right;\">\n",
       "      <th></th>\n",
       "      <th>gender</th>\n",
       "      <th>age</th>\n",
       "    </tr>\n",
       "    <tr>\n",
       "      <th>cross_sell_email</th>\n",
       "      <th></th>\n",
       "      <th></th>\n",
       "    </tr>\n",
       "  </thead>\n",
       "  <tbody>\n",
       "    <tr>\n",
       "      <th>long</th>\n",
       "      <td>0.015802</td>\n",
       "      <td>0.221423</td>\n",
       "    </tr>\n",
       "    <tr>\n",
       "      <th>no_email</th>\n",
       "      <td>0.000000</td>\n",
       "      <td>0.000000</td>\n",
       "    </tr>\n",
       "    <tr>\n",
       "      <th>short</th>\n",
       "      <td>0.184341</td>\n",
       "      <td>0.087370</td>\n",
       "    </tr>\n",
       "  </tbody>\n",
       "</table>\n",
       "</div>"
      ],
      "text/plain": [
       "                    gender       age\n",
       "cross_sell_email                    \n",
       "long              0.015802  0.221423\n",
       "no_email          0.000000  0.000000\n",
       "short             0.184341  0.087370"
      ]
     },
     "execution_count": 6,
     "metadata": {},
     "output_type": "execute_result"
    }
   ],
   "source": [
    "X = [\"gender\", \"age\"]\n",
    "\n",
    "mu = df.groupby(treatment_column)[X].mean()\n",
    "var = df.groupby(treatment_column)[X].var()\n",
    "\n",
    "norm_diff = ((mu - mu.loc[control_group]) / np.sqrt((var + var.loc[control_group]) / 2))\n",
    "norm_diff"
   ]
  },
  {
   "cell_type": "code",
   "execution_count": 7,
   "metadata": {},
   "outputs": [
    {
     "data": {
      "text/html": [
       "<div>\n",
       "<style scoped>\n",
       "    .dataframe tbody tr th:only-of-type {\n",
       "        vertical-align: middle;\n",
       "    }\n",
       "\n",
       "    .dataframe tbody tr th {\n",
       "        vertical-align: top;\n",
       "    }\n",
       "\n",
       "    .dataframe thead th {\n",
       "        text-align: right;\n",
       "    }\n",
       "</style>\n",
       "<table border=\"1\" class=\"dataframe\">\n",
       "  <thead>\n",
       "    <tr style=\"text-align: right;\">\n",
       "      <th></th>\n",
       "      <th>gender</th>\n",
       "      <th>age</th>\n",
       "    </tr>\n",
       "    <tr>\n",
       "      <th>cross_sell_email</th>\n",
       "      <th></th>\n",
       "      <th></th>\n",
       "    </tr>\n",
       "  </thead>\n",
       "  <tbody>\n",
       "    <tr>\n",
       "      <th>long</th>\n",
       "      <td>False</td>\n",
       "      <td>False</td>\n",
       "    </tr>\n",
       "    <tr>\n",
       "      <th>no_email</th>\n",
       "      <td>False</td>\n",
       "      <td>False</td>\n",
       "    </tr>\n",
       "    <tr>\n",
       "      <th>short</th>\n",
       "      <td>False</td>\n",
       "      <td>False</td>\n",
       "    </tr>\n",
       "  </tbody>\n",
       "</table>\n",
       "</div>"
      ],
      "text/plain": [
       "                  gender    age\n",
       "cross_sell_email               \n",
       "long               False  False\n",
       "no_email           False  False\n",
       "short              False  False"
      ]
     },
     "execution_count": 7,
     "metadata": {},
     "output_type": "execute_result"
    }
   ],
   "source": [
    "norm_diff_threshold = 0.5\n",
    "norm_diff > norm_diff_threshold"
   ]
  },
  {
   "cell_type": "code",
   "execution_count": 8,
   "metadata": {},
   "outputs": [
    {
     "data": {
      "text/html": [
       "<div>\n",
       "<style scoped>\n",
       "    .dataframe tbody tr th:only-of-type {\n",
       "        vertical-align: middle;\n",
       "    }\n",
       "\n",
       "    .dataframe tbody tr th {\n",
       "        vertical-align: top;\n",
       "    }\n",
       "\n",
       "    .dataframe thead th {\n",
       "        text-align: right;\n",
       "    }\n",
       "</style>\n",
       "<table border=\"1\" class=\"dataframe\">\n",
       "  <thead>\n",
       "    <tr style=\"text-align: right;\">\n",
       "      <th></th>\n",
       "      <th>gender</th>\n",
       "      <th>cross_sell_email</th>\n",
       "      <th>age</th>\n",
       "      <th>conversion</th>\n",
       "      <th>control</th>\n",
       "    </tr>\n",
       "  </thead>\n",
       "  <tbody>\n",
       "    <tr>\n",
       "      <th>0</th>\n",
       "      <td>0</td>\n",
       "      <td>short</td>\n",
       "      <td>15</td>\n",
       "      <td>0</td>\n",
       "      <td>0</td>\n",
       "    </tr>\n",
       "    <tr>\n",
       "      <th>1</th>\n",
       "      <td>1</td>\n",
       "      <td>short</td>\n",
       "      <td>27</td>\n",
       "      <td>0</td>\n",
       "      <td>0</td>\n",
       "    </tr>\n",
       "    <tr>\n",
       "      <th>2</th>\n",
       "      <td>1</td>\n",
       "      <td>long</td>\n",
       "      <td>17</td>\n",
       "      <td>0</td>\n",
       "      <td>0</td>\n",
       "    </tr>\n",
       "    <tr>\n",
       "      <th>3</th>\n",
       "      <td>1</td>\n",
       "      <td>long</td>\n",
       "      <td>34</td>\n",
       "      <td>0</td>\n",
       "      <td>0</td>\n",
       "    </tr>\n",
       "    <tr>\n",
       "      <th>4</th>\n",
       "      <td>1</td>\n",
       "      <td>no_email</td>\n",
       "      <td>14</td>\n",
       "      <td>0</td>\n",
       "      <td>1</td>\n",
       "    </tr>\n",
       "    <tr>\n",
       "      <th>...</th>\n",
       "      <td>...</td>\n",
       "      <td>...</td>\n",
       "      <td>...</td>\n",
       "      <td>...</td>\n",
       "      <td>...</td>\n",
       "    </tr>\n",
       "    <tr>\n",
       "      <th>318</th>\n",
       "      <td>0</td>\n",
       "      <td>long</td>\n",
       "      <td>18</td>\n",
       "      <td>0</td>\n",
       "      <td>0</td>\n",
       "    </tr>\n",
       "    <tr>\n",
       "      <th>319</th>\n",
       "      <td>1</td>\n",
       "      <td>no_email</td>\n",
       "      <td>16</td>\n",
       "      <td>0</td>\n",
       "      <td>1</td>\n",
       "    </tr>\n",
       "    <tr>\n",
       "      <th>320</th>\n",
       "      <td>0</td>\n",
       "      <td>no_email</td>\n",
       "      <td>15</td>\n",
       "      <td>0</td>\n",
       "      <td>1</td>\n",
       "    </tr>\n",
       "    <tr>\n",
       "      <th>321</th>\n",
       "      <td>1</td>\n",
       "      <td>no_email</td>\n",
       "      <td>16</td>\n",
       "      <td>0</td>\n",
       "      <td>1</td>\n",
       "    </tr>\n",
       "    <tr>\n",
       "      <th>322</th>\n",
       "      <td>1</td>\n",
       "      <td>long</td>\n",
       "      <td>24</td>\n",
       "      <td>1</td>\n",
       "      <td>0</td>\n",
       "    </tr>\n",
       "  </tbody>\n",
       "</table>\n",
       "<p>323 rows × 5 columns</p>\n",
       "</div>"
      ],
      "text/plain": [
       "     gender cross_sell_email  age  conversion  control\n",
       "0         0            short   15           0        0\n",
       "1         1            short   27           0        0\n",
       "2         1             long   17           0        0\n",
       "3         1             long   34           0        0\n",
       "4         1         no_email   14           0        1\n",
       "..      ...              ...  ...         ...      ...\n",
       "318       0             long   18           0        0\n",
       "319       1         no_email   16           0        1\n",
       "320       0         no_email   15           0        1\n",
       "321       1         no_email   16           0        1\n",
       "322       1             long   24           1        0\n",
       "\n",
       "[323 rows x 5 columns]"
      ]
     },
     "execution_count": 8,
     "metadata": {},
     "output_type": "execute_result"
    }
   ],
   "source": [
    "df"
   ]
  },
  {
   "cell_type": "markdown",
   "metadata": {},
   "source": [
    "# Standard Error of Estimates\n",
    "\n",
    "Moivre's equation\n",
    "\n",
    "$$SE = \\frac{\\sigma}{\\sqrt{n}}$$"
   ]
  },
  {
   "cell_type": "code",
   "execution_count": 9,
   "metadata": {},
   "outputs": [
    {
     "name": "stdout",
     "output_type": "stream",
     "text": [
      "SE for short Email: 0.030316953129541618\n",
      "SE for long Email: 0.021946024609185506\n",
      "SE for no_email Email: 0.020930611780338927\n"
     ]
    }
   ],
   "source": [
    "def se(y: pd.Series) -> float:\n",
    "    return y.std() / np.sqrt(y.shape[0])\n",
    "\n",
    "for treatment in df[\"cross_sell_email\"].unique():\n",
    "    print (f\"SE for {treatment} Email:\", se(df.query(\"cross_sell_email == @treatment\")[\"conversion\"]))\n"
   ]
  },
  {
   "cell_type": "code",
   "execution_count": 10,
   "metadata": {},
   "outputs": [
    {
     "name": "stdout",
     "output_type": "stream",
     "text": [
      "95.0% CI for short Email: (0.06557986374510955, 0.18442013625489045)\n",
      "95.0% CI for long Email: (0.012032453721799723, 0.09805928939746633)\n",
      "95.0% CI for no_email Email: (0.0015299462255076238, 0.08357643675321577)\n"
     ]
    }
   ],
   "source": [
    "from scipy import stats\n",
    "\n",
    "def ci(y: pd.Series, alpha=0.95) -> float:\n",
    "    z = np.abs(stats.norm.ppf((1-alpha)/2))\n",
    "    exp_se = y.sem()\n",
    "    exp_mu = y.mean()\n",
    "    ci = (exp_mu - z * exp_se, exp_mu + z * exp_se)\n",
    "    return ci\n",
    "\n",
    "alpha = 0.95\n",
    "\n",
    "for treatment in df[\"cross_sell_email\"].unique():\n",
    "    print (f\"{100*alpha}% CI for {treatment} Email:\", ci(df.query(\"cross_sell_email == @treatment\")[\"conversion\"], alpha))"
   ]
  },
  {
   "cell_type": "markdown",
   "metadata": {},
   "source": [
    "# Hypothesis Testing\n",
    "\n",
    "## Difference of distributions\n",
    "\n",
    "When two random variables follow a normal distribution, we can compute the statistics on the sum or difference for these 2 distributions as:\n",
    "\n",
    "- $Mean_{diff}: \\mu_1 - \\mu_2$\n",
    "- $SE_{diff}: \\sqrt{SE_1^2 + SE_2^2}$"
   ]
  },
  {
   "cell_type": "code",
   "execution_count": 16,
   "metadata": {},
   "outputs": [
    {
     "name": "stdout",
     "output_type": "stream",
     "text": [
      "95% CI for the difference (short email - no email): (0.01023980847439844, 0.15465380854687816)\n"
     ]
    }
   ],
   "source": [
    "diff_mu = df.query(\"cross_sell_email == 'short'\")[\"conversion\"].mean() - df.query(\"cross_sell_email == 'no_email'\")[\"conversion\"].mean()\n",
    "diff_se = np.sqrt(df.query(\"cross_sell_email == 'short'\")[\"conversion\"].sem()**2 + df.query(\"cross_sell_email == 'no_email'\")[\"conversion\"].sem()**2)\n",
    "\n",
    "ci = (diff_mu - 1.96*diff_se, diff_mu + 1.96 * diff_se)\n",
    "\n",
    "print (f\"{95}% CI for the difference (short email - no email): {ci}\")\n"
   ]
  }
 ],
 "metadata": {
  "kernelspec": {
   "display_name": "gflow",
   "language": "python",
   "name": "python3"
  },
  "language_info": {
   "codemirror_mode": {
    "name": "ipython",
    "version": 3
   },
   "file_extension": ".py",
   "mimetype": "text/x-python",
   "name": "python",
   "nbconvert_exporter": "python",
   "pygments_lexer": "ipython3",
   "version": "3.7.10"
  },
  "orig_nbformat": 4
 },
 "nbformat": 4,
 "nbformat_minor": 2
}
