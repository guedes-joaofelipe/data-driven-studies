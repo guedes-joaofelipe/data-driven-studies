{
 "cells": [
  {
   "cell_type": "markdown",
   "metadata": {},
   "source": [
    "# Setting Chroma DB\n",
    "\n",
    "[Chroma DB](https://www.trychroma.com/) is an open-source embedding database."
   ]
  },
  {
   "cell_type": "code",
   "execution_count": 52,
   "metadata": {},
   "outputs": [],
   "source": [
    "import os\n",
    "import numpy as np\n",
    "import pandas as pd\n",
    "import chromadb\n",
    "from chromadb.config import Settings\n",
    "from chromadb.utils import embedding_functions\n"
   ]
  },
  {
   "cell_type": "markdown",
   "metadata": {},
   "source": [
    "# Initiating a persistent Chroma client\n"
   ]
  },
  {
   "cell_type": "code",
   "execution_count": 126,
   "metadata": {},
   "outputs": [],
   "source": [
    "db_local_persistent_folder = \"./../db/\"\n",
    "client = chromadb.PersistentClient(path=db_local_persistent_folder)"
   ]
  },
  {
   "cell_type": "markdown",
   "metadata": {},
   "source": [
    "To check if client is connected to database, we can use the `Client.heartbeat()` function:"
   ]
  },
  {
   "cell_type": "code",
   "execution_count": 127,
   "metadata": {},
   "outputs": [
    {
     "data": {
      "text/plain": [
       "1700487856111201000"
      ]
     },
     "execution_count": 127,
     "metadata": {},
     "output_type": "execute_result"
    }
   ],
   "source": [
    "client.heartbeat() # returns a nanosecond heartbeat. Useful for making sure the client remains connected."
   ]
  },
  {
   "cell_type": "markdown",
   "metadata": {},
   "source": [
    "# Loading Catalog\n",
    "\n",
    "Before uploading data to the database, we need to define the documents catalog. We'll use the preprocessed version of the MIND dataset."
   ]
  },
  {
   "cell_type": "code",
   "execution_count": 154,
   "metadata": {},
   "outputs": [
    {
     "data": {
      "text/html": [
       "<div>\n",
       "<style scoped>\n",
       "    .dataframe tbody tr th:only-of-type {\n",
       "        vertical-align: middle;\n",
       "    }\n",
       "\n",
       "    .dataframe tbody tr th {\n",
       "        vertical-align: top;\n",
       "    }\n",
       "\n",
       "    .dataframe thead th {\n",
       "        text-align: right;\n",
       "    }\n",
       "</style>\n",
       "<table border=\"1\" class=\"dataframe\">\n",
       "  <thead>\n",
       "    <tr style=\"text-align: right;\">\n",
       "      <th></th>\n",
       "      <th>item_id</th>\n",
       "      <th>category</th>\n",
       "      <th>subcategory</th>\n",
       "      <th>title</th>\n",
       "      <th>abstract</th>\n",
       "      <th>url</th>\n",
       "      <th>title_entities</th>\n",
       "      <th>abstract_entities</th>\n",
       "      <th>publish_time</th>\n",
       "      <th>publish_timestamp</th>\n",
       "      <th>sentence</th>\n",
       "    </tr>\n",
       "  </thead>\n",
       "  <tbody>\n",
       "    <tr>\n",
       "      <th>42411</th>\n",
       "      <td>N63550</td>\n",
       "      <td>lifestyle</td>\n",
       "      <td>lifestyleroyals</td>\n",
       "      <td>Why Kate &amp; Meghan Were on Different Balconies ...</td>\n",
       "      <td>There's no scandal here. It's all about the or...</td>\n",
       "      <td>https://assets.msn.com/labs/mind/BBWyynu.html</td>\n",
       "      <td>[{'Confidence': 1.0, 'Label': 'Meghan, Duchess...</td>\n",
       "      <td>[]</td>\n",
       "      <td>2019-11-15 18:29:36</td>\n",
       "      <td>1.573843e+09</td>\n",
       "      <td>why kate &amp; meghan were on different balconies ...</td>\n",
       "    </tr>\n",
       "    <tr>\n",
       "      <th>42412</th>\n",
       "      <td>N30345</td>\n",
       "      <td>entertainment</td>\n",
       "      <td>entertainment-celebrity</td>\n",
       "      <td>See the stars at the 2019 Baby2Baby gala</td>\n",
       "      <td>Stars like Chrissy Teigen and Kate Hudson supp...</td>\n",
       "      <td>https://assets.msn.com/labs/mind/BBWyz7N.html</td>\n",
       "      <td>[]</td>\n",
       "      <td>[{'Confidence': 1.0, 'Label': 'Kate Hudson', '...</td>\n",
       "      <td>2019-11-15 09:16:10</td>\n",
       "      <td>1.573809e+09</td>\n",
       "      <td>see the stars at the 2019 baby2baby gala  star...</td>\n",
       "    </tr>\n",
       "    <tr>\n",
       "      <th>42413</th>\n",
       "      <td>N30135</td>\n",
       "      <td>news</td>\n",
       "      <td>newsgoodnews</td>\n",
       "      <td>Tennessee judge holds lawyer's baby as he swea...</td>\n",
       "      <td>Tennessee Court of Appeals Judge Richard Dinki...</td>\n",
       "      <td>https://assets.msn.com/labs/mind/BBWyzI8.html</td>\n",
       "      <td>[{'Confidence': 0.994, 'Label': 'Tennessee', '...</td>\n",
       "      <td>[{'Confidence': 1.0, 'Label': 'Tennessee Court...</td>\n",
       "      <td>2019-11-15 01:00:46</td>\n",
       "      <td>1.573780e+09</td>\n",
       "      <td>tennessee judge holds lawyer's baby as he swea...</td>\n",
       "    </tr>\n",
       "    <tr>\n",
       "      <th>42414</th>\n",
       "      <td>N44276</td>\n",
       "      <td>autos</td>\n",
       "      <td>autossports</td>\n",
       "      <td>Best Sports Car Deals for October</td>\n",
       "      <td>None</td>\n",
       "      <td>https://assets.msn.com/labs/mind/BBy5rVe.html</td>\n",
       "      <td>[{'Confidence': 1.0, 'Label': 'Peugeot RCZ', '...</td>\n",
       "      <td>[]</td>\n",
       "      <td>NaT</td>\n",
       "      <td>NaN</td>\n",
       "      <td>best sports car deals for october peugeot rcz</td>\n",
       "    </tr>\n",
       "    <tr>\n",
       "      <th>42415</th>\n",
       "      <td>N39563</td>\n",
       "      <td>sports</td>\n",
       "      <td>more_sports</td>\n",
       "      <td>Shall we dance: Sports stars shake their leg</td>\n",
       "      <td>None</td>\n",
       "      <td>https://assets.msn.com/labs/mind/BBzMpnG.html</td>\n",
       "      <td>[]</td>\n",
       "      <td>[]</td>\n",
       "      <td>NaT</td>\n",
       "      <td>NaN</td>\n",
       "      <td>shall we dance: sports stars shake their leg</td>\n",
       "    </tr>\n",
       "  </tbody>\n",
       "</table>\n",
       "</div>"
      ],
      "text/plain": [
       "      item_id       category              subcategory  \\\n",
       "42411  N63550      lifestyle          lifestyleroyals   \n",
       "42412  N30345  entertainment  entertainment-celebrity   \n",
       "42413  N30135           news             newsgoodnews   \n",
       "42414  N44276          autos              autossports   \n",
       "42415  N39563         sports              more_sports   \n",
       "\n",
       "                                                   title  \\\n",
       "42411  Why Kate & Meghan Were on Different Balconies ...   \n",
       "42412           See the stars at the 2019 Baby2Baby gala   \n",
       "42413  Tennessee judge holds lawyer's baby as he swea...   \n",
       "42414                  Best Sports Car Deals for October   \n",
       "42415       Shall we dance: Sports stars shake their leg   \n",
       "\n",
       "                                                abstract  \\\n",
       "42411  There's no scandal here. It's all about the or...   \n",
       "42412  Stars like Chrissy Teigen and Kate Hudson supp...   \n",
       "42413  Tennessee Court of Appeals Judge Richard Dinki...   \n",
       "42414                                               None   \n",
       "42415                                               None   \n",
       "\n",
       "                                                 url  \\\n",
       "42411  https://assets.msn.com/labs/mind/BBWyynu.html   \n",
       "42412  https://assets.msn.com/labs/mind/BBWyz7N.html   \n",
       "42413  https://assets.msn.com/labs/mind/BBWyzI8.html   \n",
       "42414  https://assets.msn.com/labs/mind/BBy5rVe.html   \n",
       "42415  https://assets.msn.com/labs/mind/BBzMpnG.html   \n",
       "\n",
       "                                          title_entities  \\\n",
       "42411  [{'Confidence': 1.0, 'Label': 'Meghan, Duchess...   \n",
       "42412                                                 []   \n",
       "42413  [{'Confidence': 0.994, 'Label': 'Tennessee', '...   \n",
       "42414  [{'Confidence': 1.0, 'Label': 'Peugeot RCZ', '...   \n",
       "42415                                                 []   \n",
       "\n",
       "                                       abstract_entities        publish_time  \\\n",
       "42411                                                 [] 2019-11-15 18:29:36   \n",
       "42412  [{'Confidence': 1.0, 'Label': 'Kate Hudson', '... 2019-11-15 09:16:10   \n",
       "42413  [{'Confidence': 1.0, 'Label': 'Tennessee Court... 2019-11-15 01:00:46   \n",
       "42414                                                 []                 NaT   \n",
       "42415                                                 []                 NaT   \n",
       "\n",
       "       publish_timestamp                                           sentence  \n",
       "42411       1.573843e+09  why kate & meghan were on different balconies ...  \n",
       "42412       1.573809e+09  see the stars at the 2019 baby2baby gala  star...  \n",
       "42413       1.573780e+09  tennessee judge holds lawyer's baby as he swea...  \n",
       "42414                NaN     best sports car deals for october peugeot rcz   \n",
       "42415                NaN     shall we dance: sports stars shake their leg    "
      ]
     },
     "execution_count": 154,
     "metadata": {},
     "output_type": "execute_result"
    }
   ],
   "source": [
    "df_items = pd.read_parquet(f\"./../data/dev/df_items_preprocessed.parquet\")\n",
    "df_items.tail()"
   ]
  },
  {
   "cell_type": "markdown",
   "metadata": {},
   "source": [
    "In order to store the embeddings, we can either compute it prior to uploading the documents (through a separate process) or we can use one of the built-in chroma db [embedding functions](https://docs.trychroma.com/embeddings).\n",
    "\n",
    "The built-in embedding functions are applied to the documents' textual data, so we need to define the sentences to be used. For the MIND dataset, we can concatenate the following attributes to form a sentence:\n",
    "\n",
    "- Title\n",
    "- Title Entities\n",
    "- Abstract"
   ]
  },
  {
   "cell_type": "code",
   "execution_count": 139,
   "metadata": {},
   "outputs": [
    {
     "data": {
      "text/plain": [
       "0    the brands queen elizabeth, prince charles, an...\n",
       "1    dispose of unwanted prescription drugs during ...\n",
       "2    the cost of trump's aid freeze in the trenches...\n",
       "3    i was an nba wife. here's how it affected my m...\n",
       "4    how to get rid of skin tags, according to a de...\n",
       "dtype: object"
      ]
     },
     "execution_count": 139,
     "metadata": {},
     "output_type": "execute_result"
    }
   ],
   "source": [
    "def generate_item_sentence(item:pd.Series) -> str:\n",
    "    sentence = ' '.join([\n",
    "        item[\"title\"],\n",
    "        ' '.join([entity['Label'] for entity in item[\"title_entities\"]]),\n",
    "        item[\"abstract\"] if str(item[\"abstract\"]) != 'None' else '',\n",
    "    ])\n",
    "\n",
    "    return sentence.lower()\n",
    "\n",
    "df_items.head().apply(lambda x: generate_item_sentence(x), axis=1)"
   ]
  },
  {
   "cell_type": "code",
   "execution_count": 140,
   "metadata": {},
   "outputs": [
    {
     "data": {
      "text/html": [
       "<div>\n",
       "<style scoped>\n",
       "    .dataframe tbody tr th:only-of-type {\n",
       "        vertical-align: middle;\n",
       "    }\n",
       "\n",
       "    .dataframe tbody tr th {\n",
       "        vertical-align: top;\n",
       "    }\n",
       "\n",
       "    .dataframe thead th {\n",
       "        text-align: right;\n",
       "    }\n",
       "</style>\n",
       "<table border=\"1\" class=\"dataframe\">\n",
       "  <thead>\n",
       "    <tr style=\"text-align: right;\">\n",
       "      <th></th>\n",
       "      <th>item_id</th>\n",
       "      <th>category</th>\n",
       "      <th>subcategory</th>\n",
       "      <th>title</th>\n",
       "      <th>abstract</th>\n",
       "      <th>url</th>\n",
       "      <th>title_entities</th>\n",
       "      <th>abstract_entities</th>\n",
       "      <th>publish_time</th>\n",
       "      <th>publish_timestamp</th>\n",
       "      <th>sentence</th>\n",
       "    </tr>\n",
       "  </thead>\n",
       "  <tbody>\n",
       "    <tr>\n",
       "      <th>42411</th>\n",
       "      <td>N63550</td>\n",
       "      <td>lifestyle</td>\n",
       "      <td>lifestyleroyals</td>\n",
       "      <td>Why Kate &amp; Meghan Were on Different Balconies ...</td>\n",
       "      <td>There's no scandal here. It's all about the or...</td>\n",
       "      <td>https://assets.msn.com/labs/mind/BBWyynu.html</td>\n",
       "      <td>[{'Confidence': 1.0, 'Label': 'Meghan, Duchess...</td>\n",
       "      <td>[]</td>\n",
       "      <td>2019-11-15 18:29:36</td>\n",
       "      <td>1.573843e+09</td>\n",
       "      <td>why kate &amp; meghan were on different balconies ...</td>\n",
       "    </tr>\n",
       "    <tr>\n",
       "      <th>42412</th>\n",
       "      <td>N30345</td>\n",
       "      <td>entertainment</td>\n",
       "      <td>entertainment-celebrity</td>\n",
       "      <td>See the stars at the 2019 Baby2Baby gala</td>\n",
       "      <td>Stars like Chrissy Teigen and Kate Hudson supp...</td>\n",
       "      <td>https://assets.msn.com/labs/mind/BBWyz7N.html</td>\n",
       "      <td>[]</td>\n",
       "      <td>[{'Confidence': 1.0, 'Label': 'Kate Hudson', '...</td>\n",
       "      <td>2019-11-15 09:16:10</td>\n",
       "      <td>1.573809e+09</td>\n",
       "      <td>see the stars at the 2019 baby2baby gala  star...</td>\n",
       "    </tr>\n",
       "    <tr>\n",
       "      <th>42413</th>\n",
       "      <td>N30135</td>\n",
       "      <td>news</td>\n",
       "      <td>newsgoodnews</td>\n",
       "      <td>Tennessee judge holds lawyer's baby as he swea...</td>\n",
       "      <td>Tennessee Court of Appeals Judge Richard Dinki...</td>\n",
       "      <td>https://assets.msn.com/labs/mind/BBWyzI8.html</td>\n",
       "      <td>[{'Confidence': 0.994, 'Label': 'Tennessee', '...</td>\n",
       "      <td>[{'Confidence': 1.0, 'Label': 'Tennessee Court...</td>\n",
       "      <td>2019-11-15 01:00:46</td>\n",
       "      <td>1.573780e+09</td>\n",
       "      <td>tennessee judge holds lawyer's baby as he swea...</td>\n",
       "    </tr>\n",
       "    <tr>\n",
       "      <th>42414</th>\n",
       "      <td>N44276</td>\n",
       "      <td>autos</td>\n",
       "      <td>autossports</td>\n",
       "      <td>Best Sports Car Deals for October</td>\n",
       "      <td>None</td>\n",
       "      <td>https://assets.msn.com/labs/mind/BBy5rVe.html</td>\n",
       "      <td>[{'Confidence': 1.0, 'Label': 'Peugeot RCZ', '...</td>\n",
       "      <td>[]</td>\n",
       "      <td>NaT</td>\n",
       "      <td>NaN</td>\n",
       "      <td>best sports car deals for october peugeot rcz</td>\n",
       "    </tr>\n",
       "    <tr>\n",
       "      <th>42415</th>\n",
       "      <td>N39563</td>\n",
       "      <td>sports</td>\n",
       "      <td>more_sports</td>\n",
       "      <td>Shall we dance: Sports stars shake their leg</td>\n",
       "      <td>None</td>\n",
       "      <td>https://assets.msn.com/labs/mind/BBzMpnG.html</td>\n",
       "      <td>[]</td>\n",
       "      <td>[]</td>\n",
       "      <td>NaT</td>\n",
       "      <td>NaN</td>\n",
       "      <td>shall we dance: sports stars shake their leg</td>\n",
       "    </tr>\n",
       "  </tbody>\n",
       "</table>\n",
       "</div>"
      ],
      "text/plain": [
       "      item_id       category              subcategory  \\\n",
       "42411  N63550      lifestyle          lifestyleroyals   \n",
       "42412  N30345  entertainment  entertainment-celebrity   \n",
       "42413  N30135           news             newsgoodnews   \n",
       "42414  N44276          autos              autossports   \n",
       "42415  N39563         sports              more_sports   \n",
       "\n",
       "                                                   title  \\\n",
       "42411  Why Kate & Meghan Were on Different Balconies ...   \n",
       "42412           See the stars at the 2019 Baby2Baby gala   \n",
       "42413  Tennessee judge holds lawyer's baby as he swea...   \n",
       "42414                  Best Sports Car Deals for October   \n",
       "42415       Shall we dance: Sports stars shake their leg   \n",
       "\n",
       "                                                abstract  \\\n",
       "42411  There's no scandal here. It's all about the or...   \n",
       "42412  Stars like Chrissy Teigen and Kate Hudson supp...   \n",
       "42413  Tennessee Court of Appeals Judge Richard Dinki...   \n",
       "42414                                               None   \n",
       "42415                                               None   \n",
       "\n",
       "                                                 url  \\\n",
       "42411  https://assets.msn.com/labs/mind/BBWyynu.html   \n",
       "42412  https://assets.msn.com/labs/mind/BBWyz7N.html   \n",
       "42413  https://assets.msn.com/labs/mind/BBWyzI8.html   \n",
       "42414  https://assets.msn.com/labs/mind/BBy5rVe.html   \n",
       "42415  https://assets.msn.com/labs/mind/BBzMpnG.html   \n",
       "\n",
       "                                          title_entities  \\\n",
       "42411  [{'Confidence': 1.0, 'Label': 'Meghan, Duchess...   \n",
       "42412                                                 []   \n",
       "42413  [{'Confidence': 0.994, 'Label': 'Tennessee', '...   \n",
       "42414  [{'Confidence': 1.0, 'Label': 'Peugeot RCZ', '...   \n",
       "42415                                                 []   \n",
       "\n",
       "                                       abstract_entities        publish_time  \\\n",
       "42411                                                 [] 2019-11-15 18:29:36   \n",
       "42412  [{'Confidence': 1.0, 'Label': 'Kate Hudson', '... 2019-11-15 09:16:10   \n",
       "42413  [{'Confidence': 1.0, 'Label': 'Tennessee Court... 2019-11-15 01:00:46   \n",
       "42414                                                 []                 NaT   \n",
       "42415                                                 []                 NaT   \n",
       "\n",
       "       publish_timestamp                                           sentence  \n",
       "42411       1.573843e+09  why kate & meghan were on different balconies ...  \n",
       "42412       1.573809e+09  see the stars at the 2019 baby2baby gala  star...  \n",
       "42413       1.573780e+09  tennessee judge holds lawyer's baby as he swea...  \n",
       "42414                NaN     best sports car deals for october peugeot rcz   \n",
       "42415                NaN     shall we dance: sports stars shake their leg    "
      ]
     },
     "execution_count": 140,
     "metadata": {},
     "output_type": "execute_result"
    }
   ],
   "source": [
    "df_items['sentence'] = df_items.apply(lambda x: generate_item_sentence(x), axis=1)\n",
    "df_items.tail()"
   ]
  },
  {
   "cell_type": "markdown",
   "metadata": {},
   "source": [
    "Once the textual data is set, we can test the Embedding Function. For this notebook, we'll use the Sentence Transformers with the `all-MiniLM-L6-v2` model to create embeddings."
   ]
  },
  {
   "cell_type": "code",
   "execution_count": null,
   "metadata": {},
   "outputs": [],
   "source": [
    "embedding_function = embedding_functions.SentenceTransformerEmbeddingFunction(model_name=\"all-MiniLM-L6-v2\")\n",
    "sentences = df_items[\"sentence\"][9:11].values\n",
    "print (sentences)\n",
    "embeddings = np.array(embedding_function(sentences))\n",
    "print (embeddings.shape)\n"
   ]
  },
  {
   "cell_type": "markdown",
   "metadata": {},
   "source": [
    "## Setting Collections\n",
    "\n",
    "Collections are similar to a cloud-based bucket. They store a specific group of documents defined by the user.\n",
    "\n",
    "To create a collection (or get an existing one), we can define the following parameters:\n",
    "\n",
    "- `name`: the collection's name\n",
    "- `metadata`: a set of attributes defining how metadata is computed. For example, we can define the `hnsw:space` attribute, which set how embedding distances are computed. Currently options are:\n",
    "    - `l2`: squared L2 norm (default)\n",
    "    - `ip`: inner product\n",
    "    - `cosine`: cosine similarity\n"
   ]
  },
  {
   "cell_type": "code",
   "execution_count": 142,
   "metadata": {},
   "outputs": [],
   "source": [
    "collection = client.get_or_create_collection(\n",
    "    name=\"mind-news\",\n",
    "    metadata={\"hnsw:space\": \"cosine\"}, # distance method. l2 is the default. Options: \"l2\", \"ip\", \"cosine\"\n",
    "    embedding_function=embedding_function\n",
    "\n",
    ")"
   ]
  },
  {
   "cell_type": "code",
   "execution_count": 100,
   "metadata": {},
   "outputs": [],
   "source": [
    "# client.delete_collection(\"mind-news\")"
   ]
  },
  {
   "cell_type": "code",
   "execution_count": 149,
   "metadata": {},
   "outputs": [
    {
     "data": {
      "text/plain": [
       "20"
      ]
     },
     "execution_count": 149,
     "metadata": {},
     "output_type": "execute_result"
    }
   ],
   "source": [
    "collection.count()"
   ]
  },
  {
   "cell_type": "markdown",
   "metadata": {},
   "source": [
    "## Adding Data to Collection"
   ]
  },
  {
   "cell_type": "code",
   "execution_count": 144,
   "metadata": {},
   "outputs": [
    {
     "data": {
      "text/plain": [
       "array([{'category': 'lifestyle', 'subcategory': 'lifestyleroyals', 'publish_timestamp': nan},\n",
       "       {'category': 'health', 'subcategory': 'medical', 'publish_timestamp': nan},\n",
       "       {'category': 'news', 'subcategory': 'newsworld', 'publish_timestamp': nan},\n",
       "       ...,\n",
       "       {'category': 'news', 'subcategory': 'newsgoodnews', 'publish_timestamp': 1573779646.0},\n",
       "       {'category': 'autos', 'subcategory': 'autossports', 'publish_timestamp': nan},\n",
       "       {'category': 'sports', 'subcategory': 'more_sports', 'publish_timestamp': nan}],\n",
       "      dtype=object)"
      ]
     },
     "execution_count": 144,
     "metadata": {},
     "output_type": "execute_result"
    }
   ],
   "source": [
    "query_fields = [\"category\", \"subcategory\", \"publish_timestamp\"]\n",
    "df_items.apply(lambda x: {field: x[field] for field in query_fields}, axis=1).values"
   ]
  },
  {
   "cell_type": "code",
   "execution_count": 161,
   "metadata": {},
   "outputs": [
    {
     "data": {
      "text/plain": [
       "2"
      ]
     },
     "execution_count": 161,
     "metadata": {},
     "output_type": "execute_result"
    }
   ],
   "source": [
    "CHROMA_DB_MAX_CHUNK_SIZE = 41666\n",
    "n_chunks = np.ceil(df_items.shape[0]/CHROMA_DB_MAX_CHUNK_SIZE)"
   ]
  },
  {
   "cell_type": "code",
   "execution_count": 162,
   "metadata": {},
   "outputs": [
    {
     "name": "stdout",
     "output_type": "stream",
     "text": [
      "Processing chunk 0/1.0\n",
      "Processing chunk 1/1.0\n",
      "CPU times: user 23min 56s, sys: 2min 27s, total: 26min 23s\n",
      "Wall time: 2h 1min 11s\n"
     ]
    }
   ],
   "source": [
    "%%time\n",
    "for i, df_chunk in enumerate(np.array_split(df_items, n_chunks)):\n",
    "    print (f\"Processing chunk {i+1}/{int(n_chunks)}\")\n",
    "    collection.upsert(\n",
    "        documents=df_chunk[\"sentence\"].values.tolist(),\n",
    "        metadatas=df_chunk.apply(lambda x: {field: x[field] for field in query_fields}, axis=1).values.tolist(),\n",
    "        ids=df_chunk[\"item_id\"].values.tolist()\n",
    "    )"
   ]
  },
  {
   "cell_type": "code",
   "execution_count": 163,
   "metadata": {},
   "outputs": [
    {
     "data": {
      "text/plain": [
       "42416"
      ]
     },
     "execution_count": 163,
     "metadata": {},
     "output_type": "execute_result"
    }
   ],
   "source": [
    "collection.count()"
   ]
  },
  {
   "cell_type": "markdown",
   "metadata": {},
   "source": [
    "# Querying the Collection"
   ]
  },
  {
   "cell_type": "code",
   "execution_count": 164,
   "metadata": {},
   "outputs": [
    {
     "data": {
      "text/plain": [
       "['N38146', 'N50966', 'N20106', 'N5860', 'N23965']"
      ]
     },
     "execution_count": 164,
     "metadata": {},
     "output_type": "execute_result"
    }
   ],
   "source": [
    "# Get first N items from a collection\n",
    "collection.peek(5)[\"ids\"]"
   ]
  },
  {
   "cell_type": "code",
   "execution_count": 165,
   "metadata": {},
   "outputs": [
    {
     "data": {
      "text/plain": [
       "{'ids': ['N22428', 'N15764'],\n",
       " 'embeddings': None,\n",
       " 'metadatas': [{'category': 'lifestyle', 'subcategory': 'lifestylefamily'},\n",
       "  {'category': 'sports', 'subcategory': 'basketball_nba'}],\n",
       " 'documents': None,\n",
       " 'uris': None,\n",
       " 'data': None}"
      ]
     },
     "execution_count": 165,
     "metadata": {},
     "output_type": "execute_result"
    }
   ],
   "source": [
    "# Getting items based on ID and defining returning fields\n",
    "collection.get(\n",
    "    ids=df_sample[\"item_id\"].sample(2).values.tolist(),\n",
    "    include=[\"metadatas\"]\n",
    ")"
   ]
  },
  {
   "cell_type": "code",
   "execution_count": 167,
   "metadata": {},
   "outputs": [
    {
     "data": {
      "text/plain": [
       "{'ids': [['N1364', 'N30199', 'N55433', 'N5241', 'N59911']],\n",
       " 'distances': [[0.40464282035827637,\n",
       "   0.5020017027854919,\n",
       "   0.510242223739624,\n",
       "   0.5167964696884155,\n",
       "   0.5257139205932617]],\n",
       " 'metadatas': None,\n",
       " 'embeddings': None,\n",
       " 'documents': [['union station in d.c.: the ultimate guide washington, d.c. where to eat, where to shop, and what to know about the history behind it all',\n",
       "   \"10 best museums in washington dc washington, d.c. if there's one thing washington knows how to do, it's a museum.\",\n",
       "   'what $3,100 rents in d.c. right now washington, d.c. these newer listings are in dupont circle, glover park, columbia heights, and elsewhere',\n",
       "   'lonely planet names washington, d.c., the second-best city in the world to visit in 2020 lonely planet washington, d.c. lonely planet has compiled its annual ranking of 10 best countries, cities, regions and best-value destinations. what made the lists?',\n",
       "   'where to hunt for deal on a d.c.-area apartment washington metropolitan area looking for a deal? try fredericksburg and hagerstown']],\n",
       " 'uris': None,\n",
       " 'data': None}"
      ]
     },
     "execution_count": 167,
     "metadata": {},
     "output_type": "execute_result"
    }
   ],
   "source": [
    "# Querying with text input\n",
    "collection.query(\n",
    "    query_texts=[\"Washington D.C.\"],\n",
    "    n_results=5,\n",
    "    include=[\"distances\", \"documents\"],\n",
    ")"
   ]
  },
  {
   "cell_type": "code",
   "execution_count": 168,
   "metadata": {},
   "outputs": [
    {
     "data": {
      "text/plain": [
       "{'ids': [['N61182', 'N43436', 'N10344', 'N24897', 'N13363']],\n",
       " 'distances': [[0.7420820593833923,\n",
       "   0.7643195390701294,\n",
       "   0.7644224166870117,\n",
       "   0.7785135507583618,\n",
       "   0.7803128957748413]],\n",
       " 'metadatas': [[{'category': 'autos', 'subcategory': 'autosenthusiasts'},\n",
       "   {'category': 'autos', 'subcategory': 'autosclassics'},\n",
       "   {'category': 'autos',\n",
       "    'publish_timestamp': 1573787140.0,\n",
       "    'subcategory': 'autosnews'},\n",
       "   {'category': 'autos', 'subcategory': 'autosnews'},\n",
       "   {'category': 'autos', 'subcategory': 'autosenthusiasts'}]],\n",
       " 'embeddings': None,\n",
       " 'documents': [[\"2019 mustang week meet 'n greet  massive mustang week photo gallery.\",\n",
       "   'greatest ebay listing of 2019? or in all of human history? you decide!  this clever ebay ad made our day!',\n",
       "   'bommarito kicks off `spirit of st. louis` campaign with $50,000 donation spirit of st. louis n the spirit of the holidays, fox2, kplr 11 and bommarito automotive group invites you to enter to win a car, truck or suva 2019 vw passat or a 2019 toyota tacoma or a 2020 gmc terrain courtesy of bommarito automotive group',\n",
       "   \"this is saleen's new gt4 race car saleen the well-known specialty manufacturer/tuner to offer customers a competition-only saleen 1 racer.\",\n",
       "   'shelby american celebrates ford v ferrari in style carroll shelby international ford v ferrari are you excited for the movie?']],\n",
       " 'uris': None,\n",
       " 'data': None}"
      ]
     },
     "execution_count": 168,
     "metadata": {},
     "output_type": "execute_result"
    }
   ],
   "source": [
    "# Defining querying filters\n",
    "collection.query(\n",
    "    query_texts=[\"\"],\n",
    "    n_results=5,\n",
    "    where={\"category\": \"autos\"}\n",
    ")"
   ]
  }
 ],
 "metadata": {
  "kernelspec": {
   "display_name": "open-ai",
   "language": "python",
   "name": "python3"
  },
  "language_info": {
   "codemirror_mode": {
    "name": "ipython",
    "version": 3
   },
   "file_extension": ".py",
   "mimetype": "text/x-python",
   "name": "python",
   "nbconvert_exporter": "python",
   "pygments_lexer": "ipython3",
   "version": "3.8.18"
  }
 },
 "nbformat": 4,
 "nbformat_minor": 2
}
