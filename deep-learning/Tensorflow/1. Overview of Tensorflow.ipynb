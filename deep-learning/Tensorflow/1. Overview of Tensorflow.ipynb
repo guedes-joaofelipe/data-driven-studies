{
 "cells": [
  {
   "cell_type": "markdown",
   "metadata": {},
   "source": [
    "## What is a tensor?\n",
    "An n-dimensional array\n",
    " - 0-d tensor: scalar\n",
    " - 1-d tensor: array\n",
    " - 2-3 tensor: matrix"
   ]
  },
  {
   "cell_type": "code",
   "execution_count": null,
   "metadata": {},
   "outputs": [],
   "source": []
  },
  {
   "cell_type": "code",
   "execution_count": 1,
   "metadata": {},
   "outputs": [
    {
     "name": "stderr",
     "output_type": "stream",
     "text": [
      "C:\\Anaconda\\lib\\site-packages\\h5py\\__init__.py:36: FutureWarning: Conversion of the second argument of issubdtype from `float` to `np.floating` is deprecated. In future, it will be treated as `np.float64 == np.dtype(float).type`.\n",
      "  from ._conv import register_converters as _register_converters\n"
     ]
    }
   ],
   "source": [
    "import tensorflow as tf"
   ]
  },
  {
   "cell_type": "markdown",
   "metadata": {},
   "source": [
    "## Operations and Sessions"
   ]
  },
  {
   "cell_type": "markdown",
   "metadata": {},
   "source": [
    "Tensorflow separates definition of operations from its execution. So, you can do the following:\n",
    " - First, assemble a graph that will have a specific operation\n",
    " - Then, use a session to execute operations in the graph"
   ]
  },
  {
   "cell_type": "code",
   "execution_count": 16,
   "metadata": {},
   "outputs": [
    {
     "name": "stdout",
     "output_type": "stream",
     "text": [
      "Tensor(\"Add_2:0\", shape=(), dtype=int32)\n",
      "8\n",
      "8\n"
     ]
    }
   ],
   "source": [
    "# Build an operation\n",
    "a = tf.add(3,5)\n",
    "print (a)\n",
    "\n",
    "# Opening a Session\n",
    "sess = tf.Session()\n",
    "\n",
    "# Running an operation\n",
    "print (sess.run(a))\n",
    "\n",
    "# Closing the session\n",
    "sess.close()\n",
    "\n",
    "# Or simply, using the context manager:\n",
    "with tf.Session() as sess:\n",
    "    print (sess.run(a))"
   ]
  },
  {
   "cell_type": "markdown",
   "metadata": {},
   "source": [
    "A session object encapsulates the environment in which Operation objects are executed and Tensors objects are evaluated"
   ]
  },
  {
   "cell_type": "code",
   "execution_count": 18,
   "metadata": {},
   "outputs": [
    {
     "name": "stdout",
     "output_type": "stream",
     "text": [
      "2 + 3 = Tensor(\"Add_3:0\", shape=(), dtype=int32)\n",
      "2 * 3 = Tensor(\"Mul_3:0\", shape=(), dtype=int32)\n",
      "Tensor(\"Mul_3:0\", shape=(), dtype=int32)^^Tensor(\"Add_3:0\", shape=(), dtype=int32) = Tensor(\"Pow_1:0\", shape=(), dtype=int32)\n"
     ]
    }
   ],
   "source": [
    "x = 2\n",
    "y = 3\n",
    "tensor1 = tf.add(x, y)\n",
    "tensor2 = tf.multiply(x, y)\n",
    "tensor3 = tf.pow(op2, op1)\n",
    "with tf.Session() as sess:\n",
    "    op1 = sess.run(tensor1)\n",
    "    op2 = sess.run(tensor2)\n",
    "    op3 = sess.run(tensor3)\n",
    "    print ('{} + {} = {}'.format(x, y, tensor1))\n",
    "    print ('{} * {} = {}'.format(x, y, tensor2))\n",
    "    print ('{}^^{} = {}'.format(tensor2, tensor1, tensor3))"
   ]
  },
  {
   "cell_type": "markdown",
   "metadata": {},
   "source": [
    "## Distributed Computation\n",
    "Tensorflow can perform different graphs in different computational resources. You can run part of a graph in a GPU_1 and the other part on GPU_2"
   ]
  },
  {
   "cell_type": "code",
   "execution_count": 24,
   "metadata": {},
   "outputs": [
    {
     "name": "stdout",
     "output_type": "stream",
     "text": [
      "/job:localhost/replica:0/task:0/device:CPU:0\n",
      "[ 1.  4.  9. 16. 25. 36.]\n"
     ]
    }
   ],
   "source": [
    "# Creates a graph.\n",
    "with tf.device('/cpu:0'): # Should be /gpu:1 here ?\n",
    "    a = tf.constant([1.0, 2.0, 3.0, 4.0, 5.0, 6.0], name='a')\n",
    "    b = tf.constant([1.0, 2.0, 3.0, 4.0, 5.0, 6.0], name='b')\n",
    "    c = tf.multiply(a, b)\n",
    "\n",
    "# Creates a session with log_device_placement set to True.\n",
    "with tf.Session(config=tf.ConfigProto(log_device_placement=True)) as sess:\n",
    "    # Print devices on session\n",
    "    for device in sess.list_devices():         \n",
    "        print (device.name)\n",
    "\n",
    "# Runs the op.\n",
    "    print(sess.run(c))"
   ]
  },
  {
   "cell_type": "markdown",
   "metadata": {},
   "source": [
    "## Creating graphs\n",
    "Tensorflow automatically chooses which nodes and edges of its graphs to active whenever making an operation. If part of a graph is not used on the end-node, than its operations are not computed. <br>\n",
    "Therefore, it is **not advisable to create multiple graphs**. Multiple graphs require multiple sessions, each will try to use all available resources by default. Can't pass data between them without passing them through python/numpy, which doesn't work in distributed.\n",
    "\n"
   ]
  },
  {
   "cell_type": "code",
   "execution_count": 15,
   "metadata": {},
   "outputs": [
    {
     "name": "stdout",
     "output_type": "stream",
     "text": [
      "8\n",
      "<tensorflow.python.framework.ops.Graph object at 0x0000025847757780>\n"
     ]
    }
   ],
   "source": [
    "# Creating a graph\n",
    "g = tf.Graph()\n",
    "\n",
    "# to add operators to a graph, set it as default:\n",
    "with g.as_default():\n",
    "    k = tf.add(3, 5)\n",
    "    \n",
    "# Specify the graph in which is going to be used in the session\n",
    "with tf.Session(graph=g) as sess:\n",
    "    a = sess.run(k)\n",
    "    print (a)\n",
    "\n",
    "# To handle the default graph:\n",
    "g = tf.get_default_graph()\n",
    "print (g)"
   ]
  },
  {
   "cell_type": "code",
   "execution_count": null,
   "metadata": {},
   "outputs": [],
   "source": [
    "#Do not mix default graph and user created graphs\n",
    "#g = tf.Graph()\n",
    "# add ops to the default graph\n",
    "#a = tf.constant(3)\n",
    "# add ops to the user created graph\n",
    "#with g.as_default():\n",
    "#    b = tf.constant(5)\n"
   ]
  }
 ],
 "metadata": {
  "kernelspec": {
   "display_name": "Python 3",
   "language": "python",
   "name": "python3"
  },
  "language_info": {
   "codemirror_mode": {
    "name": "ipython",
    "version": 3
   },
   "file_extension": ".py",
   "mimetype": "text/x-python",
   "name": "python",
   "nbconvert_exporter": "python",
   "pygments_lexer": "ipython3",
   "version": "3.6.4"
  }
 },
 "nbformat": 4,
 "nbformat_minor": 2
}
